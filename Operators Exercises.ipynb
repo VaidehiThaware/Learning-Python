{
 "cells": [
  {
   "cell_type": "markdown",
   "id": "35fbf4c3-ec61-4252-b216-684fb1b050d8",
   "metadata": {},
   "source": [
    "### Calculator Program\n",
    "\n",
    "- Read two float numbers from the users\n",
    "- Perform arithmetic operations `+,-,*,/,%,//` using the two numbers given by the user as input and print the results."
   ]
  },
  {
   "cell_type": "code",
   "execution_count": 4,
   "id": "521f17b7-a1b0-47f9-98a4-98d2e00e4308",
   "metadata": {},
   "outputs": [
    {
     "name": "stdin",
     "output_type": "stream",
     "text": [
      "Enter a number 5\n",
      "Enter a number 4\n"
     ]
    },
    {
     "name": "stdout",
     "output_type": "stream",
     "text": [
      "5\n",
      "4\n",
      "The sum of  5.0 & 4.0 is = 9.0\n",
      "The difference of  5.0 & 4.0 is = 1.0\n",
      "The product of  5.0 & 4.0 is = 20.0\n",
      "The quo. of  5.0 & 4.0 is = 1.25\n",
      "The modulus of  5.0 & 4.0 is = 1.0\n",
      "The Floor Division of  5.0 & 4.0 is = 1.0\n"
     ]
    }
   ],
   "source": [
    "# Read two numbers from the user.\n",
    "a = input(\"Enter a number\")\n",
    "b = input(\"Enter a number\")\n",
    "\n",
    "print(a)\n",
    "print(b)\n",
    "\n",
    "\n",
    "a = float(a)\n",
    "b = float(b)\n",
    "\n",
    "# Perform addition on a and b.\n",
    "Sum = a+b\n",
    "print(\"The sum of \",a, \"&\",b,\"is =\",Sum)\n",
    "\n",
    "# Perform subtraction on a and b.\n",
    "Diff = a-b\n",
    "print(\"The difference of \",a, \"&\",b,\"is =\",Diff)\n",
    "\n",
    "# Perform multiplication on a and b.\n",
    "Product = a*b\n",
    "print(\"The product of \",a, \"&\",b,\"is =\",Product)\n",
    "\n",
    "# Perform division on a and b.\n",
    "Quotient = a/b\n",
    "print(\"The quo. of \",a, \"&\",b,\"is =\",Quotient)\n",
    "\n",
    "# Perform modulus on a and b.\n",
    "Modulus = a%b\n",
    "print(\"The modulus of \",a, \"&\",b,\"is =\",Modulus)\n",
    "\n",
    "# Perform floor division on a and b.\n",
    "FloorDivision = a//b\n",
    "print(\"The Floor Division of \",a, \"&\",b,\"is =\",FloorDivision)\n"
   ]
  },
  {
   "cell_type": "markdown",
   "id": "244c0d41-468b-4d99-8b08-fd91b6afcce4",
   "metadata": {},
   "source": [
    " ## Compound Interest \n",
    " - Read three values Principle,Rate,Time period from user.\n",
    " - Calculate the Compound Interest using the formula by the values given by user and print the results.\n",
    "\n",
    "$$ V = P\\times \\left(1 + \\frac{R}{100}\\right)^N $$"
   ]
  },
  {
   "cell_type": "code",
   "execution_count": 6,
   "id": "f8e6f615-71df-4f87-be57-67f7fd88c579",
   "metadata": {},
   "outputs": [
    {
     "name": "stdin",
     "output_type": "stream",
     "text": [
      "Enter a principle: 1000\n",
      "Enter a rate: 5\n",
      "Enter Time period : 3\n"
     ]
    },
    {
     "name": "stdout",
     "output_type": "stream",
     "text": [
      "1157.6250000000002\n"
     ]
    }
   ],
   "source": [
    "# Read 3 inputs from the user (Principle,Rate,Time Period)\n",
    "p = input(\"Enter a principle:\")\n",
    "r = input(\"Enter a rate:\")\n",
    "n = input(\"Enter Time period :\")\n",
    "\n",
    "#Convert p,q,n into integer.\n",
    "P = int(p)\n",
    "R = int(r)\n",
    "N = int(n)\n",
    "\n",
    "# Apply a Compound Interest formula.\n",
    "V = P*(1 + R /100 )**N\n",
    "print(V)"
   ]
  },
  {
   "cell_type": "markdown",
   "id": "a8650abc-65e6-4c37-88f7-a764b5e61e79",
   "metadata": {},
   "source": [
    "## Verify LHS = RHS \n",
    "- Read two inputs from the user.\n",
    "- Check if the inputs given by the user are verify\n",
    "\n",
    "$$\n",
    "C = (a-b)^2 = a ^ 2 - 2ab + b^2\n",
    "$$\n"
   ]
  },
  {
   "cell_type": "code",
   "execution_count": 3,
   "id": "583f573f-f274-409c-b2f2-315aa142cc3c",
   "metadata": {},
   "outputs": [
    {
     "name": "stdin",
     "output_type": "stream",
     "text": [
      "Input the value of the a: 7\n",
      "Input the value of the b: 9\n"
     ]
    },
    {
     "name": "stdout",
     "output_type": "stream",
     "text": [
      "4.0\n",
      "4.0\n"
     ]
    }
   ],
   "source": [
    "# Read 2 inputs(a,b) from the user.\n",
    "a = input (\"Input the value of the a:\")\n",
    "b = input (\"Input the value of the b:\")\n",
    "\n",
    "#Convert the input a and b into float.\n",
    "a = float(a)\n",
    "b = float(b)\n",
    "\n",
    "#Proving LHS = RHS\n",
    "c1 = (a-b)**2\n",
    "c2 = a**2-2*a*b+b**2\n",
    "\n",
    "#Print the output.\n",
    "print (c1)\n",
    "print (c2)\n",
    "\n"
   ]
  },
  {
   "cell_type": "code",
   "execution_count": null,
   "id": "7058515f-dda2-4eee-97a6-6c34d97ed467",
   "metadata": {},
   "outputs": [],
   "source": []
  }
 ],
 "metadata": {
  "kernelspec": {
   "display_name": "Python 3 (ipykernel)",
   "language": "python",
   "name": "python3"
  },
  "language_info": {
   "codemirror_mode": {
    "name": "ipython",
    "version": 3
   },
   "file_extension": ".py",
   "mimetype": "text/x-python",
   "name": "python",
   "nbconvert_exporter": "python",
   "pygments_lexer": "ipython3",
   "version": "3.12.6"
  }
 },
 "nbformat": 4,
 "nbformat_minor": 5
}

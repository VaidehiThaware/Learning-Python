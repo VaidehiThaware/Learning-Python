{
 "cells": [
  {
   "cell_type": "markdown",
   "id": "ae61abe5-7657-41ff-860d-4be2b4e1ee70",
   "metadata": {},
   "source": [
    "# Number Pattern"
   ]
  },
  {
   "cell_type": "code",
   "execution_count": 9,
   "id": "dc9b48b3-55d3-4d4e-bb6e-90a6cd2e8b46",
   "metadata": {},
   "outputs": [
    {
     "name": "stdout",
     "output_type": "stream",
     "text": [
      "1 \n",
      "2 2 \n",
      "3 3 3 \n",
      "4 4 4 4 \n",
      "5 5 5 5 5 \n",
      "6 6 6 6 6 6 \n",
      "7 7 7 7 7 7 7 \n"
     ]
    }
   ],
   "source": [
    "# Number Pattern\n",
    "def pattern (n):\n",
    "    x = 0\n",
    "    for i in range(0,n):\n",
    "        x += 1\n",
    "        for j in range(0,i + 1):\n",
    "            print(x, end = \" \")\n",
    "        print(\"\\r\")\n",
    "pattern(7)\n",
    "\n",
    "   "
   ]
  },
  {
   "cell_type": "code",
   "execution_count": 10,
   "id": "5b707d0d-c090-458d-904e-93d6fdd70f63",
   "metadata": {},
   "outputs": [
    {
     "name": "stdout",
     "output_type": "stream",
     "text": [
      "1   \n",
      "1   1   \n",
      "1   2   1   \n",
      "1   3   3   1   \n",
      "1   4   6   4   1   \n",
      "1   5   10   10   5   1   \n",
      "1   6   15   20   15   6   1   \n"
     ]
    }
   ],
   "source": [
    "# Pascal's Triangle Pattern\n",
    "def pattern (n):\n",
    "    for i in range(0,n):\n",
    "        for j in range(0,i + 1):\n",
    "            print(function(i,j),\" \", end = \" \")\n",
    "        print()\n",
    "def function(n,k):\n",
    "    res = 1\n",
    "    if (k > n - k):\n",
    "        k = n - k\n",
    "    for i in range (0,k):\n",
    "        res = res * (n - i)\n",
    "        res = res // (i+1)\n",
    "    return res\n",
    "pattern(7)"
   ]
  },
  {
   "cell_type": "code",
   "execution_count": 5,
   "id": "80b048b9-1064-4933-884c-c5ebb4dab8f1",
   "metadata": {},
   "outputs": [
    {
     "name": "stdout",
     "output_type": "stream",
     "text": [
      "              1 \n",
      "             2 2 \n",
      "            3 3 3 \n",
      "           4 4 4 4 \n",
      "          5 5 5 5 5 \n",
      "         6 6 6 6 6 6 \n",
      "        7 7 7 7 7 7 7 \n",
      "       8 8 8 8 8 8 8 8 \n",
      "      1 1 1 1 1 1 1 1 1 \n",
      "       2 2 2 2 2 2 2 2 \n",
      "        3 3 3 3 3 3 3 \n",
      "         4 4 4 4 4 4 \n",
      "          5 5 5 5 5 \n",
      "           6 6 6 6 \n",
      "            7 7 7 \n",
      "             8 8 \n",
      "              9 \n"
     ]
    }
   ],
   "source": [
    "# Diamond pattern\n",
    "def pattern(n):\n",
    "    k = 2 * n - 2\n",
    "    x = 0\n",
    "    for i in range(0, n):\n",
    "        x = x + 1\n",
    "        for j in range(0, k):\n",
    "            print(end=\" \")\n",
    "        k = k - 1\n",
    "        for j in range(0, i + 1):\n",
    "            print(x, end=\" \")\n",
    "        print(\"\\r\")\n",
    "\n",
    "    k = n - 2\n",
    "    x = 0\n",
    "    for i in range(n, -1, -1):\n",
    "        x = x + 1\n",
    "        for j in range(k, 0, -1):\n",
    "            print(end=\" \")\n",
    "        k = k + 1\n",
    "        for j in range(0, i + 1):\n",
    "            print(x, end=\" \")\n",
    "        print(\"\\r\")\n",
    "\n",
    "\n",
    "\n",
    "pattern(8)\n"
   ]
  },
  {
   "cell_type": "code",
   "execution_count": 7,
   "id": "a9da9ac1-dd3b-4306-9ca3-73fcc42900c2",
   "metadata": {},
   "outputs": [
    {
     "name": "stdout",
     "output_type": "stream",
     "text": [
      "1 2 3 4 5 6 7 \n",
      "1 2 3 4 5 6 \n",
      "1 2 3 4 5 \n",
      "1 2 3 4 \n",
      "1 2 3 \n",
      "1 2 \n",
      "1 \n"
     ]
    }
   ],
   "source": [
    "# Descending Order Pattern\n",
    "def pattern (n):\n",
    "    for i in range(n,0,-1):\n",
    "        for j in range(1,i + 1):\n",
    "            print(j, end = \" \")\n",
    "        print(\"\\r\")\n",
    "pattern(7)\n"
   ]
  },
  {
   "cell_type": "code",
   "execution_count": null,
   "id": "d25e710e-ed9a-462a-8642-90ec95884cf4",
   "metadata": {},
   "outputs": [],
   "source": []
  }
 ],
 "metadata": {
  "kernelspec": {
   "display_name": "Python 3 (ipykernel)",
   "language": "python",
   "name": "python3"
  },
  "language_info": {
   "codemirror_mode": {
    "name": "ipython",
    "version": 3
   },
   "file_extension": ".py",
   "mimetype": "text/x-python",
   "name": "python",
   "nbconvert_exporter": "python",
   "pygments_lexer": "ipython3",
   "version": "3.12.6"
  }
 },
 "nbformat": 4,
 "nbformat_minor": 5
}

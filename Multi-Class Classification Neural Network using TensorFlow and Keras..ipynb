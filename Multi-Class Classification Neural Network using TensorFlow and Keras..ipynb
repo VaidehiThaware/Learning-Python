{
 "cells": [
  {
   "cell_type": "markdown",
   "id": "958d535c-fa30-4e44-9ec8-dad83b1118cf",
   "metadata": {},
   "source": [
    "# Multi-Class Classification Neural Network using TensorFlow and Keras"
   ]
  },
  {
   "cell_type": "markdown",
   "id": "238c54e3-923e-4ad7-95d6-0e593730fab8",
   "metadata": {},
   "source": [
    "### 1.Import Required Libraries"
   ]
  },
  {
   "cell_type": "code",
   "execution_count": 10,
   "id": "0ed14e78-fe55-44c4-ad79-d6ccceae1e13",
   "metadata": {},
   "outputs": [],
   "source": [
    "import tensorflow as tf\n",
    "from tensorflow import keras\n",
    "from tensorflow.keras import layers\n",
    "import numpy as np\n"
   ]
  },
  {
   "cell_type": "markdown",
   "id": "e0493291-b049-4fe7-9dcc-b79f9fc49c83",
   "metadata": {},
   "source": [
    "### 2. Generate Dummy Data"
   ]
  },
  {
   "cell_type": "code",
   "execution_count": 13,
   "id": "73541b2b-191c-49e4-ad28-d528730c3095",
   "metadata": {},
   "outputs": [],
   "source": [
    "x = np.random.rand(100, 10)  \n",
    "y = np.random.randint(0, 20, 100)  "
   ]
  },
  {
   "cell_type": "markdown",
   "id": "19824ce0-3e72-4fea-a83a-f4869b42cfc1",
   "metadata": {},
   "source": [
    "### 3. Define the Neural Network Model"
   ]
  },
  {
   "cell_type": "code",
   "execution_count": 16,
   "id": "6593d2fb-3408-4631-bde1-a736c9700704",
   "metadata": {},
   "outputs": [],
   "source": [
    "model = keras.Sequential([\n",
    "    layers.Dense(20, activation='relu', input_shape=(10,)),  # Hidden Layer 1\n",
    "    layers.Dense(20, activation='relu'),  # Hidden Layer 2\n",
    "    layers.Dense(20, activation='softmax')  # Output Layer\n",
    "])"
   ]
  },
  {
   "cell_type": "markdown",
   "id": "405aaf86-cd14-479f-a4de-45537b4658bf",
   "metadata": {},
   "source": [
    "### 4. Compile the Model"
   ]
  },
  {
   "cell_type": "code",
   "execution_count": 21,
   "id": "31c86656-7db3-436a-a14a-0470abfefb11",
   "metadata": {},
   "outputs": [],
   "source": [
    "model.compile(optimizer='adam', loss='sparse_categorical_crossentropy', metrics=['accuracy'])"
   ]
  },
  {
   "cell_type": "markdown",
   "id": "26cf20dd-4c67-4851-bae4-c6edee2129ca",
   "metadata": {},
   "source": [
    "### 5. Train the Model"
   ]
  },
  {
   "cell_type": "code",
   "execution_count": 24,
   "id": "eafed1f5-64cc-41e2-a37d-133d3c6904bb",
   "metadata": {},
   "outputs": [
    {
     "name": "stdout",
     "output_type": "stream",
     "text": [
      "Epoch 1/10\n",
      "\u001b[1m4/4\u001b[0m \u001b[32m━━━━━━━━━━━━━━━━━━━━\u001b[0m\u001b[37m\u001b[0m \u001b[1m3s\u001b[0m 45ms/step - accuracy: 0.0368 - loss: 3.0334\n",
      "Epoch 2/10\n",
      "\u001b[1m4/4\u001b[0m \u001b[32m━━━━━━━━━━━━━━━━━━━━\u001b[0m\u001b[37m\u001b[0m \u001b[1m0s\u001b[0m 28ms/step - accuracy: 0.0287 - loss: 3.0354\n",
      "Epoch 3/10\n",
      "\u001b[1m4/4\u001b[0m \u001b[32m━━━━━━━━━━━━━━━━━━━━\u001b[0m\u001b[37m\u001b[0m \u001b[1m0s\u001b[0m 27ms/step - accuracy: 0.0400 - loss: 3.0133 \n",
      "Epoch 4/10\n",
      "\u001b[1m4/4\u001b[0m \u001b[32m━━━━━━━━━━━━━━━━━━━━\u001b[0m\u001b[37m\u001b[0m \u001b[1m0s\u001b[0m 27ms/step - accuracy: 0.0400 - loss: 3.0057\n",
      "Epoch 5/10\n",
      "\u001b[1m4/4\u001b[0m \u001b[32m━━━━━━━━━━━━━━━━━━━━\u001b[0m\u001b[37m\u001b[0m \u001b[1m0s\u001b[0m 31ms/step - accuracy: 0.0460 - loss: 3.0083\n",
      "Epoch 6/10\n",
      "\u001b[1m4/4\u001b[0m \u001b[32m━━━━━━━━━━━━━━━━━━━━\u001b[0m\u001b[37m\u001b[0m \u001b[1m0s\u001b[0m 31ms/step - accuracy: 0.0304 - loss: 3.0077     \n",
      "Epoch 7/10\n",
      "\u001b[1m4/4\u001b[0m \u001b[32m━━━━━━━━━━━━━━━━━━━━\u001b[0m\u001b[37m\u001b[0m \u001b[1m0s\u001b[0m 26ms/step - accuracy: 0.0335 - loss: 3.0000     \n",
      "Epoch 8/10\n",
      "\u001b[1m4/4\u001b[0m \u001b[32m━━━━━━━━━━━━━━━━━━━━\u001b[0m\u001b[37m\u001b[0m \u001b[1m0s\u001b[0m 28ms/step - accuracy: 0.0677 - loss: 2.9818\n",
      "Epoch 9/10\n",
      "\u001b[1m4/4\u001b[0m \u001b[32m━━━━━━━━━━━━━━━━━━━━\u001b[0m\u001b[37m\u001b[0m \u001b[1m0s\u001b[0m 27ms/step - accuracy: 0.0646 - loss: 2.9928\n",
      "Epoch 10/10\n",
      "\u001b[1m4/4\u001b[0m \u001b[32m━━━━━━━━━━━━━━━━━━━━\u001b[0m\u001b[37m\u001b[0m \u001b[1m0s\u001b[0m 27ms/step - accuracy: 0.0740 - loss: 2.9723\n"
     ]
    },
    {
     "data": {
      "text/plain": [
       "<keras.src.callbacks.history.History at 0x26f00d506b0>"
      ]
     },
     "execution_count": 24,
     "metadata": {},
     "output_type": "execute_result"
    }
   ],
   "source": [
    "model.fit(x, y, epochs=10, batch_size=32)"
   ]
  },
  {
   "cell_type": "code",
   "execution_count": null,
   "id": "adc4326b-596b-43c7-b465-e342a6deaf9e",
   "metadata": {},
   "outputs": [],
   "source": []
  }
 ],
 "metadata": {
  "kernelspec": {
   "display_name": "Python [conda env:base] *",
   "language": "python",
   "name": "conda-base-py"
  },
  "language_info": {
   "codemirror_mode": {
    "name": "ipython",
    "version": 3
   },
   "file_extension": ".py",
   "mimetype": "text/x-python",
   "name": "python",
   "nbconvert_exporter": "python",
   "pygments_lexer": "ipython3",
   "version": "3.12.7"
  }
 },
 "nbformat": 4,
 "nbformat_minor": 5
}

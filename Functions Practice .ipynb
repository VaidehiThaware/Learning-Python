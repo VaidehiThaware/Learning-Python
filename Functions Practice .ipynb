{
 "cells": [
  {
   "cell_type": "markdown",
   "id": "1e8c0880-e8ae-4f03-9f2b-b88510a60ca2",
   "metadata": {},
   "source": [
    "# Built-in functions Questions"
   ]
  },
  {
   "cell_type": "markdown",
   "id": "6b96d648-a98b-4191-b13d-009c84a1227f",
   "metadata": {},
   "source": [
    "#### 1.Write a Python program to print your name and age using the print() function, with a custom separator of your choice.\n",
    "#### 2.Create a list of numbers [10, 20, 30, 40, 50]. Use the sum() function to calculate the total and the max() function to find the maximum value.\n",
    "#### 3.Use the help() function to display the documentation for the built-in len() function.\n",
    "#### 4.Try using the print() function to print three strings separated by a dash (-) and end the output with an exclamation mark."
   ]
  },
  {
   "cell_type": "code",
   "execution_count": 6,
   "id": "af998b86-c600-4b91-a1af-17d30946f91f",
   "metadata": {},
   "outputs": [
    {
     "name": "stdout",
     "output_type": "stream",
     "text": [
      "Name-Vaidehi---------------Age:18\n"
     ]
    }
   ],
   "source": [
    "#Q1\n",
    "print (\"Name\",\"Vaidehi\",sep = '-',end = '---------------')\n",
    "print(\"Age\", \"18\",sep = ':')"
   ]
  },
  {
   "cell_type": "code",
   "execution_count": 7,
   "id": "ee3b59b6-d2f8-4326-8ba1-def128e524d8",
   "metadata": {},
   "outputs": [
    {
     "name": "stdout",
     "output_type": "stream",
     "text": [
      "Sum of the all given numbers in the list is: 150\n",
      "Maximum Number in even given list is : 50\n"
     ]
    }
   ],
   "source": [
    "#Q2\n",
    "list1 = [10,20,30,40,50]\n",
    "print(\"Sum of the all given numbers in the list is:\",sum(list1))\n",
    "print(\"Maximum Number in even given list is :\",max(list1))"
   ]
  },
  {
   "cell_type": "code",
   "execution_count": 8,
   "id": "b49d5a85-7424-423b-9e57-ea360aa470f6",
   "metadata": {},
   "outputs": [
    {
     "name": "stdout",
     "output_type": "stream",
     "text": [
      "Help on built-in function len in module builtins:\n",
      "\n",
      "len(obj, /)\n",
      "    Return the number of items in a container.\n",
      "\n"
     ]
    }
   ],
   "source": [
    "#Q3\n",
    "help(len)"
   ]
  },
  {
   "cell_type": "code",
   "execution_count": 10,
   "id": "67caacd7-a2cb-4820-a622-a370b3eef69c",
   "metadata": {},
   "outputs": [
    {
     "name": "stdout",
     "output_type": "stream",
     "text": [
      "I-am-Vaidehi!"
     ]
    }
   ],
   "source": [
    "#Q4\n",
    "print(\"I\",\"am\",\"Vaidehi\",sep = '-',end = \"!\")"
   ]
  },
  {
   "cell_type": "markdown",
   "id": "ce452103-4bf4-40d1-acd2-67ee0af4b4f8",
   "metadata": {},
   "source": [
    "# Lambda functions Questions"
   ]
  },
  {
   "cell_type": "markdown",
   "id": "52a27446-fca8-4c88-aeea-32b3b33a9866",
   "metadata": {},
   "source": [
    "#### 5.Create a lambda function that multiplies two numbers and use it to calculate the product of 7 and 8.\n",
    "#### 6.Write a lambda function to find the square of a number and test it with the number 9.\n",
    "#### 7.Use a lambda function to filter out all numbers greater than 5 from the list [1, 2, 3, 6, 8, 10]."
   ]
  },
  {
   "cell_type": "code",
   "execution_count": 11,
   "id": "139d88c5-5d25-47e5-b6d4-d63f000dda3f",
   "metadata": {},
   "outputs": [
    {
     "name": "stdout",
     "output_type": "stream",
     "text": [
      "56\n"
     ]
    }
   ],
   "source": [
    "#Q5\n",
    "mul = lambda x,y : x*y\n",
    "print(mul(7,8))"
   ]
  },
  {
   "cell_type": "code",
   "execution_count": 15,
   "id": "ef53f7e8-7b83-4e55-9382-cd80bc21bb8e",
   "metadata": {},
   "outputs": [
    {
     "name": "stdout",
     "output_type": "stream",
     "text": [
      "81\n"
     ]
    }
   ],
   "source": [
    "#Q6\n",
    "squ = lambda a : a**2\n",
    "print(squ(9))"
   ]
  },
  {
   "cell_type": "code",
   "execution_count": 21,
   "id": "be5af8e6-cc6d-4c37-b70a-eeb915a909af",
   "metadata": {},
   "outputs": [
    {
     "name": "stdout",
     "output_type": "stream",
     "text": [
      "[6, 8, 10]\n"
     ]
    }
   ],
   "source": [
    "#Q7\n",
    "lists = [1,2,3,6,8,10]\n",
    "a = lambda x : x>5\n",
    "filterednumber = filter(a,lists)\n",
    "print(list(filterednumber))"
   ]
  },
  {
   "cell_type": "markdown",
   "id": "a3b8b4b2-27a1-4055-8939-383bf51c1a97",
   "metadata": {},
   "source": [
    "# User-Defined Functions Questions"
   ]
  },
  {
   "cell_type": "markdown",
   "id": "b8e3900b-e930-45a7-9628-85170780b7d5",
   "metadata": {},
   "source": [
    "#### 8.Write a function named greet that takes a name as input and prints \"Hello, [name]!\".\n",
    "#### 9.Create a function called add_numbers that takes two arguments and returns their sum. Test it with the numbers 12 and 15.\n",
    "#### 10.Define a function is_even that checks if a given number is even or odd. Return True if even and False otherwise.\n",
    "#### 11.Write a function factorial(n) to compute the factorial of a given number n using a loop."
   ]
  },
  {
   "cell_type": "code",
   "execution_count": 24,
   "id": "aa17019e-ba37-4ff0-be14-95a8c68d8908",
   "metadata": {},
   "outputs": [
    {
     "name": "stdin",
     "output_type": "stream",
     "text": [
      "Enter your name: V\n"
     ]
    },
    {
     "name": "stdout",
     "output_type": "stream",
     "text": [
      "Hello V\n"
     ]
    }
   ],
   "source": [
    "#Q8\n",
    "def greet():\n",
    "    name = input(\"Enter your name:\")\n",
    "    print(\"Hello\",name)\n",
    "greet()"
   ]
  },
  {
   "cell_type": "code",
   "execution_count": 25,
   "id": "7983e81a-39c3-4252-b5b1-03492d37c8b1",
   "metadata": {},
   "outputs": [
    {
     "data": {
      "text/plain": [
       "27"
      ]
     },
     "execution_count": 25,
     "metadata": {},
     "output_type": "execute_result"
    }
   ],
   "source": [
    "#Q9\n",
    "def add_numbers (x,y):\n",
    "    sum = x+y\n",
    "    return sum\n",
    "add_numbers(12,15)"
   ]
  },
  {
   "cell_type": "code",
   "execution_count": 1,
   "id": "8c1789c3-526e-4034-8ddf-31dfd8125127",
   "metadata": {},
   "outputs": [
    {
     "name": "stdin",
     "output_type": "stream",
     "text": [
      "Enter number: 9\n"
     ]
    },
    {
     "data": {
      "text/plain": [
       "False"
      ]
     },
     "execution_count": 1,
     "metadata": {},
     "output_type": "execute_result"
    }
   ],
   "source": [
    "#Q10\n",
    "def is_even():\n",
    "    Num = input(\"Enter number:\")\n",
    "    Num = int(Num)\n",
    "    if(Num % 2 == 0):\n",
    "        return True\n",
    "    else:\n",
    "        return False\n",
    "is_even()\n",
    "    "
   ]
  },
  {
   "cell_type": "code",
   "execution_count": 2,
   "id": "4f0bb86f-c546-4c8d-836d-fb4eb33f163d",
   "metadata": {},
   "outputs": [
    {
     "name": "stdin",
     "output_type": "stream",
     "text": [
      "Enter a number:  11\n"
     ]
    },
    {
     "name": "stdout",
     "output_type": "stream",
     "text": [
      "39916800\n"
     ]
    }
   ],
   "source": [
    "#Q11\n",
    "def factorial(n):\n",
    "    result = 1\n",
    "    for i in range(1, n + 1):\n",
    "        result *= i\n",
    "    return result\n",
    "\n",
    "num = int(input(\"Enter a number: \"))\n",
    "print(factorial(num))\n"
   ]
  },
  {
   "cell_type": "code",
   "execution_count": null,
   "id": "7615890a-ccc3-4a8a-9ffb-9be9a4eeee0a",
   "metadata": {},
   "outputs": [],
   "source": []
  }
 ],
 "metadata": {
  "kernelspec": {
   "display_name": "Python 3 (ipykernel)",
   "language": "python",
   "name": "python3"
  },
  "language_info": {
   "codemirror_mode": {
    "name": "ipython",
    "version": 3
   },
   "file_extension": ".py",
   "mimetype": "text/x-python",
   "name": "python",
   "nbconvert_exporter": "python",
   "pygments_lexer": "ipython3",
   "version": "3.12.6"
  }
 },
 "nbformat": 4,
 "nbformat_minor": 5
}

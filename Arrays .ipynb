{
 "cells": [
  {
   "cell_type": "markdown",
   "id": "0d90adbb-1a78-42fd-a2e5-a41bd80af7b4",
   "metadata": {},
   "source": [
    "# Creating an array with different methods:"
   ]
  },
  {
   "cell_type": "markdown",
   "id": "99d24ec5-e287-4046-8b6b-e24450c38006",
   "metadata": {},
   "source": [
    "### 1. Without ALIAS -> import array"
   ]
  },
  {
   "cell_type": "code",
   "execution_count": null,
   "id": "5f6ebdc1-e993-4bde-9289-0bfd2262527d",
   "metadata": {},
   "outputs": [],
   "source": [
    "import array"
   ]
  },
  {
   "cell_type": "code",
   "execution_count": 2,
   "id": "d10ac995-0756-4aef-9a36-c9cdf434a431",
   "metadata": {},
   "outputs": [
    {
     "data": {
      "text/plain": [
       "array('i', [1, 2, 3, 4, 5, 6])"
      ]
     },
     "execution_count": 2,
     "metadata": {},
     "output_type": "execute_result"
    }
   ],
   "source": [
    "a = array.array('i',[1,2,3,4,5,6])\n",
    "a"
   ]
  },
  {
   "cell_type": "markdown",
   "id": "111fd1e4-58b7-44a5-b500-8563f9d59cd6",
   "metadata": {},
   "source": [
    "### 2.Using ALIAS -> import array as arr"
   ]
  },
  {
   "cell_type": "code",
   "execution_count": 3,
   "id": "d1a8a6fc-2a38-4d59-b690-553c7fca89df",
   "metadata": {},
   "outputs": [],
   "source": [
    "import array as arr"
   ]
  },
  {
   "cell_type": "code",
   "execution_count": 4,
   "id": "19dedb5c-8155-474e-84f9-01fdfa44a219",
   "metadata": {},
   "outputs": [
    {
     "data": {
      "text/plain": [
       "array('i', [1, 2, 3, 4, 5, 6])"
      ]
     },
     "execution_count": 4,
     "metadata": {},
     "output_type": "execute_result"
    }
   ],
   "source": [
    "a = arr.array('i',[1,2,3,4,5,6])\n",
    "a"
   ]
  },
  {
   "cell_type": "markdown",
   "id": "e3e1746a-11c9-4334-8000-5896a3c24d1a",
   "metadata": {},
   "source": [
    "### 3.Using * -> from array import *"
   ]
  },
  {
   "cell_type": "code",
   "execution_count": 5,
   "id": "c340702b-f47d-442c-9608-754c76d5c6fa",
   "metadata": {},
   "outputs": [],
   "source": [
    "from array import *"
   ]
  },
  {
   "cell_type": "markdown",
   "id": "e9fc7a0c-45d8-4bd6-a114-22ea6f1fd3a3",
   "metadata": {},
   "source": [
    "a = array('i',[1,2,3,4,5,6])\n",
    "a"
   ]
  },
  {
   "cell_type": "markdown",
   "id": "31a8aace-5434-44a0-b1a3-706d9730b1c2",
   "metadata": {},
   "source": [
    "# Accessing Elements"
   ]
  },
  {
   "cell_type": "code",
   "execution_count": 8,
   "id": "ba51d2d5-d5f2-408c-9a1b-251d0f5b4061",
   "metadata": {},
   "outputs": [
    {
     "data": {
      "text/plain": [
       "3"
      ]
     },
     "execution_count": 8,
     "metadata": {},
     "output_type": "execute_result"
    }
   ],
   "source": [
    "a[2]"
   ]
  },
  {
   "cell_type": "code",
   "execution_count": 9,
   "id": "620ec137-f972-46a6-a2e6-edabd3aac044",
   "metadata": {},
   "outputs": [
    {
     "data": {
      "text/plain": [
       "1"
      ]
     },
     "execution_count": 9,
     "metadata": {},
     "output_type": "execute_result"
    }
   ],
   "source": [
    "a[0]"
   ]
  },
  {
   "cell_type": "markdown",
   "id": "cf12738b-ef0f-463f-a9cb-1d29ac4d438c",
   "metadata": {},
   "source": [
    "# Length of an array"
   ]
  },
  {
   "cell_type": "code",
   "execution_count": 19,
   "id": "9bdca4dd-adcc-4f9b-b49d-628d9610899e",
   "metadata": {},
   "outputs": [
    {
     "data": {
      "text/plain": [
       "10"
      ]
     },
     "execution_count": 19,
     "metadata": {},
     "output_type": "execute_result"
    }
   ],
   "source": [
    "b = arr.array('i',[0,1,2,3,4,5,6,7,8,9])\n",
    "len(b)"
   ]
  },
  {
   "cell_type": "markdown",
   "id": "4ca9612d-c112-4952-9abb-3516b398e6b2",
   "metadata": {},
   "source": [
    "# Adding elements to an array"
   ]
  },
  {
   "cell_type": "markdown",
   "id": "e6d3336e-6f01-44b1-9b7c-608b39e05c3e",
   "metadata": {},
   "source": [
    "### Using 'append'"
   ]
  },
  {
   "cell_type": "code",
   "execution_count": 25,
   "id": "f68e0f3b-74f6-4d17-abb6-a7f7ed36e505",
   "metadata": {},
   "outputs": [
    {
     "name": "stdout",
     "output_type": "stream",
     "text": [
      "Array a = array('d', [1.1, 2.1, 3.1, 4.1])\n"
     ]
    }
   ],
   "source": [
    "import array as arr\n",
    "a = arr.array('d',[1.1,2.1,3.1])\n",
    "a.append(4.1)\n",
    "print (\"Array a =\",a)"
   ]
  },
  {
   "cell_type": "markdown",
   "id": "ea314f1d-246f-4015-9880-0d519e36d446",
   "metadata": {},
   "source": [
    "### Using 'extend'"
   ]
  },
  {
   "cell_type": "code",
   "execution_count": 27,
   "id": "f046a96d-fbef-45b5-ad17-3ccb9a6692af",
   "metadata": {},
   "outputs": [
    {
     "name": "stdout",
     "output_type": "stream",
     "text": [
      "Array a =  array('d', [1.1, 2.1, 3.1, 4.1, 5.1, 6.1])\n"
     ]
    }
   ],
   "source": [
    "import array as arr\n",
    "a = arr.array('d',[1.1,2.1,3.1])\n",
    "a.extend([4.1,5.1,6.1])\n",
    "print(\"Array a = \",a)"
   ]
  },
  {
   "cell_type": "markdown",
   "id": "3b376362-6173-4017-891f-e45e197416e9",
   "metadata": {},
   "source": [
    "### Using 'insert'"
   ]
  },
  {
   "cell_type": "code",
   "execution_count": 32,
   "id": "84ff7260-5417-4fc2-a458-638b22106eac",
   "metadata": {},
   "outputs": [
    {
     "name": "stdout",
     "output_type": "stream",
     "text": [
      "Array a =  array('i', [2, 4, 6, 8, 10, 12])\n"
     ]
    }
   ],
   "source": [
    "import array as arr\n",
    "a = arr.array('i',[2,4,6,8,12])\n",
    "a.insert(4,10)\n",
    "print(\"Array a = \",a)"
   ]
  },
  {
   "cell_type": "markdown",
   "id": "c35daf20-a423-4433-a8fc-2b942b6c9eba",
   "metadata": {},
   "source": [
    "# Removing elements form an array"
   ]
  },
  {
   "cell_type": "markdown",
   "id": "7fd34c56-f6f1-402d-b547-67e8ebdce4a6",
   "metadata": {},
   "source": [
    "### Using 'pop'"
   ]
  },
  {
   "cell_type": "code",
   "execution_count": 33,
   "id": "a655054c-d109-465f-8846-c0a7228330ee",
   "metadata": {},
   "outputs": [
    {
     "name": "stdout",
     "output_type": "stream",
     "text": [
      "Array a = array('d', [1.1, 2.1])\n"
     ]
    }
   ],
   "source": [
    "import array as arr\n",
    "a = arr.array('d',[1.1,2.1,3.1])\n",
    "a.pop()\n",
    "print (\"Array a =\",a)"
   ]
  },
  {
   "cell_type": "markdown",
   "id": "8a895a03-2939-43a7-a5a0-e633462f4d82",
   "metadata": {},
   "source": [
    "### Using'remove'"
   ]
  },
  {
   "cell_type": "code",
   "execution_count": 38,
   "id": "bf6ecc88-fa05-4cd5-a5d6-e6312751f70c",
   "metadata": {},
   "outputs": [
    {
     "name": "stdout",
     "output_type": "stream",
     "text": [
      "Array a = array('d', [2.1, 3.1])\n"
     ]
    }
   ],
   "source": [
    "import array as arr\n",
    "a = arr.array('d',[1.1,2.1,3.1])\n",
    "a.remove(1.1)\n",
    "print (\"Array a =\",a)"
   ]
  },
  {
   "cell_type": "markdown",
   "id": "bc66a9e6-ae33-4ec1-8b14-0c02be8e5b9a",
   "metadata": {},
   "source": [
    "# Concatenation of Arrays"
   ]
  },
  {
   "cell_type": "code",
   "execution_count": 40,
   "id": "8994379b-f089-43ca-a4f5-168281df0ab3",
   "metadata": {},
   "outputs": [
    {
     "name": "stdout",
     "output_type": "stream",
     "text": [
      "Array C =  array('i', [1, 3, 5, 7, 9, 2, 4, 6, 8, 10])\n"
     ]
    }
   ],
   "source": [
    "import array as arr\n",
    "a = arr.array('i',[1,3,5,7,9])\n",
    "b = arr.array('i',[2,4,6,8,10])\n",
    "c = arr.array('d')\n",
    "c = a+b\n",
    "print(\"Array C = \",c)"
   ]
  },
  {
   "cell_type": "markdown",
   "id": "b8f6c8aa-8d92-45ca-9239-817900e72dd0",
   "metadata": {},
   "source": [
    "# Slicing an Array"
   ]
  },
  {
   "cell_type": "code",
   "execution_count": 44,
   "id": "45786f15-e052-4877-97a8-d7ae20f9d886",
   "metadata": {},
   "outputs": [
    {
     "name": "stdout",
     "output_type": "stream",
     "text": [
      "array('i', [1, 2, 3])\n"
     ]
    }
   ],
   "source": [
    "import array as arr\n",
    "e = arr.array('i',[1,2,3,4,5,6,])\n",
    "print(e[0:3])"
   ]
  },
  {
   "cell_type": "markdown",
   "id": "8bae53b1-50a8-4071-b539-ef0b4002d45a",
   "metadata": {},
   "source": [
    "# Looping through an array"
   ]
  },
  {
   "cell_type": "markdown",
   "id": "e88b56dc-e46b-4586-abbc-a6793b1dbca4",
   "metadata": {},
   "source": [
    "### Using \"for\" loop"
   ]
  },
  {
   "cell_type": "code",
   "execution_count": 47,
   "id": "8260ac7a-67e9-4789-a34f-85f013783024",
   "metadata": {},
   "outputs": [
    {
     "name": "stdout",
     "output_type": "stream",
     "text": [
      "All Values\n",
      "1.1\n",
      "2.1\n",
      "3.1\n"
     ]
    }
   ],
   "source": [
    "import array as arr\n",
    "a = arr.array('d',[1.1,2.1,3.1])\n",
    "print (\"All Values\")\n",
    "for x in a:\n",
    "    print(x)"
   ]
  },
  {
   "cell_type": "code",
   "execution_count": 53,
   "id": "71447d1c-da82-44e6-8c38-b7485be93c9a",
   "metadata": {},
   "outputs": [
    {
     "name": "stdout",
     "output_type": "stream",
     "text": [
      "1.1\n",
      "2.1\n"
     ]
    }
   ],
   "source": [
    "for x in a[0:-1]:\n",
    "    print(x)"
   ]
  },
  {
   "cell_type": "markdown",
   "id": "9212f086-79fb-493a-98b2-e4965e491eda",
   "metadata": {},
   "source": [
    "### Using \"while\" loop"
   ]
  },
  {
   "cell_type": "code",
   "execution_count": 55,
   "id": "54ab9aba-82d8-4ac7-aab7-f2ec5cfea2fb",
   "metadata": {},
   "outputs": [
    {
     "name": "stdout",
     "output_type": "stream",
     "text": [
      "1.1\n",
      "2.1\n",
      "3.1\n"
     ]
    }
   ],
   "source": [
    "import array as arr\n",
    "a = arr.array('d',[1.1,2.1,3.1])\n",
    "b = 0\n",
    "while b<len(a):\n",
    "    print(a[b])\n",
    "    b = b+1"
   ]
  },
  {
   "cell_type": "code",
   "execution_count": null,
   "id": "0511c7a8-1495-4931-bde1-7dfa8cece508",
   "metadata": {},
   "outputs": [],
   "source": []
  }
 ],
 "metadata": {
  "kernelspec": {
   "display_name": "Python 3 (ipykernel)",
   "language": "python",
   "name": "python3"
  },
  "language_info": {
   "codemirror_mode": {
    "name": "ipython",
    "version": 3
   },
   "file_extension": ".py",
   "mimetype": "text/x-python",
   "name": "python",
   "nbconvert_exporter": "python",
   "pygments_lexer": "ipython3",
   "version": "3.12.6"
  }
 },
 "nbformat": 4,
 "nbformat_minor": 5
}

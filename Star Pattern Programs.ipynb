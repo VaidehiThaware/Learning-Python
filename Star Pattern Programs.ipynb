{
 "cells": [
  {
   "cell_type": "markdown",
   "id": "bfc69afd-a65b-483a-8b03-fc2a6637f1c4",
   "metadata": {},
   "source": [
    "# Star Pattern Programs "
   ]
  },
  {
   "cell_type": "code",
   "execution_count": 48,
   "id": "b5f2a2e8-1917-4a1a-9ab7-7103a5390787",
   "metadata": {},
   "outputs": [
    {
     "name": "stdout",
     "output_type": "stream",
     "text": [
      "                  * \n",
      "                 * * \n",
      "                * * * \n",
      "               * * * * \n",
      "              * * * * * \n",
      "             * * * * * * \n",
      "            * * * * * * * \n",
      "           * * * * * * * * \n",
      "          * * * * * * * * * \n",
      "         * * * * * * * * * * \n"
     ]
    }
   ],
   "source": [
    "# Star Pyramid Program\n",
    "def pattern (n):\n",
    "     k = 2 * n - 2\n",
    "    for i in range(0,n):\n",
    "        for j in range(0,k):\n",
    "            print(end = \" \" )\n",
    "        k = k - 1\n",
    "        for j in range (0,i + 1):\n",
    "            print(\"* \" , end = \"\")\n",
    "        print(\"\\r\")\n",
    "pattern(10)"
   ]
  },
  {
   "cell_type": "code",
   "execution_count": 46,
   "id": "db654750-03c0-4033-a51c-3f7daa7cae6d",
   "metadata": {},
   "outputs": [
    {
     "name": "stdout",
     "output_type": "stream",
     "text": [
      "        * * * * * * * * * * * \n",
      "         * * * * * * * * * * \n",
      "          * * * * * * * * * \n",
      "           * * * * * * * * \n",
      "            * * * * * * * \n",
      "             * * * * * * \n",
      "              * * * * * \n",
      "               * * * * \n",
      "                * * * \n",
      "                 * * \n",
      "                  * \n"
     ]
    }
   ],
   "source": [
    "# Inverse Pyramid\n",
    "def pattern (n):\n",
    "    k = n - 2\n",
    "    for i in range(n,-1,-1):\n",
    "        for j in range(k,0,-1) :\n",
    "            print(end = \" \" )\n",
    "        k = k + 1\n",
    "        for j in range (0,i + 1):\n",
    "            print(\"* \" , end = \"\")\n",
    "        print(\"\\r\")\n",
    "pattern(10)\n",
    "    "
   ]
  },
  {
   "cell_type": "code",
   "execution_count": 52,
   "id": "8da647e6-e1a4-4037-84d7-c539671deff9",
   "metadata": {},
   "outputs": [
    {
     "name": "stdout",
     "output_type": "stream",
     "text": [
      "* \n",
      "* * \n",
      "* * * \n",
      "* * * * \n",
      "* * * * * \n",
      "* * * * * * \n",
      "* * * * * * * \n",
      "* * * * * * * * \n",
      "* * * * * * * * * \n",
      "* * * * * * * * * * \n",
      "* * * * * * * * * * * \n",
      "* * * * * * * * * * \n",
      "* * * * * * * * * \n",
      "* * * * * * * * \n",
      "* * * * * * * \n",
      "* * * * * * \n",
      "* * * * * \n",
      "* * * * \n",
      "* * * \n",
      "* * \n",
      "* \n"
     ]
    }
   ],
   "source": [
    "# Right start pattern\n",
    "def pattern (n):\n",
    "    for i in range(0,n):\n",
    "        for j in range(0,i + 1):\n",
    "             print(\"* \" , end = \"\")\n",
    "        print(\"\\r\")\n",
    "    for i in range(n,-1,-1):\n",
    "        for j in range(0,i + 1):\n",
    "            print(\"* \" , end = \"\")\n",
    "        print(\"\\r\")\n",
    "pattern(10)"
   ]
  },
  {
   "cell_type": "code",
   "execution_count": 55,
   "id": "0550639e-72db-4815-ba03-61b46f53093f",
   "metadata": {},
   "outputs": [
    {
     "name": "stdout",
     "output_type": "stream",
     "text": [
      "                  * \n",
      "               * * \n",
      "            * * * \n",
      "         * * * * \n",
      "      * * * * * \n",
      "   * * * * * * \n",
      "* * * * * * * \n",
      "* * * * * * * * \n",
      "* * * * * * * * * \n",
      "* * * * * * * * * * \n",
      "* * * * * * * * * \n",
      "* * * * * * * * \n",
      "* * * * * * * \n",
      "* * * * * * \n",
      "  * * * * * \n",
      "    * * * * \n",
      "      * * * \n",
      "        * * \n",
      "          * \n"
     ]
    }
   ],
   "source": [
    "# Boat Pattern\n",
    "def pattern (n):\n",
    "    k = 2 * n - 2\n",
    "    for i in range(0,n - 1):\n",
    "        for j in range(0,k):\n",
    "             print(end = \" \")\n",
    "        k = k - 2\n",
    "        for j in range(0,i + 1):\n",
    "            print(\"* \" , end = \"\")\n",
    "        print(\"\\r\")\n",
    "        k = k - 1\n",
    "    for i in range(n-1,-1,-1):\n",
    "        for j in range(k,-1,-1):\n",
    "            print (end = \" \")\n",
    "        k = k + 2\n",
    "        for j in range(0,i+1):\n",
    "            print(\"* \" , end = \"\")\n",
    "        print(\"\\r\")\n",
    "            \n",
    "pattern(10)"
   ]
  },
  {
   "cell_type": "code",
   "execution_count": 57,
   "id": "98c98385-02a9-4c7f-be02-a80f154a69c0",
   "metadata": {},
   "outputs": [
    {
     "name": "stdout",
     "output_type": "stream",
     "text": [
      "                  * \n",
      "                * * \n",
      "              * * * \n",
      "            * * * * \n",
      "          * * * * * \n",
      "        * * * * * * \n",
      "      * * * * * * * \n",
      "    * * * * * * * * \n",
      "  * * * * * * * * * \n",
      "* * * * * * * * * * \n",
      "  * * * * * * * * * \n",
      "    * * * * * * * * \n",
      "      * * * * * * * \n",
      "        * * * * * * \n",
      "          * * * * * \n",
      "            * * * * \n",
      "              * * * \n",
      "                * * \n",
      "                  * \n"
     ]
    }
   ],
   "source": [
    "# Left Start Pattern\n",
    "def pattern (n):\n",
    "    k = 2 * n - 2\n",
    "    for i in range(0,n - 1):\n",
    "        for j in range(0,k):\n",
    "             print(end = \" \")\n",
    "        k = k - 2\n",
    "        for j in range(0,i + 1):\n",
    "            print(\"* \" , end = \"\")\n",
    "        print(\"\\r\")\n",
    "    k = - 1\n",
    "    for i in range(n-1,-1,-1):\n",
    "        for j in range(k,-1,-1):\n",
    "            print (end = \" \")\n",
    "        k = k + 2\n",
    "        for j in range(0,i+1):\n",
    "            print(\"* \" , end = \"\")\n",
    "        print(\"\\r\")\n",
    "            \n",
    "pattern(10)"
   ]
  },
  {
   "cell_type": "code",
   "execution_count": 59,
   "id": "da4db917-ad53-4dc2-a0bd-7cff961f3a1f",
   "metadata": {},
   "outputs": [
    {
     "name": "stdout",
     "output_type": "stream",
     "text": [
      "        * * * * * * * * * * * \n",
      "         * * * * * * * * * * \n",
      "          * * * * * * * * * \n",
      "           * * * * * * * * \n",
      "            * * * * * * * \n",
      "             * * * * * * \n",
      "              * * * * * \n",
      "               * * * * \n",
      "                * * * \n",
      "                 * * \n",
      "                  * \n",
      "                  * \n",
      "                 * * \n",
      "                * * * \n",
      "               * * * * \n",
      "              * * * * * \n",
      "             * * * * * * \n",
      "            * * * * * * * \n",
      "           * * * * * * * * \n",
      "          * * * * * * * * * \n",
      "         * * * * * * * * * * \n",
      "        * * * * * * * * * * * \n"
     ]
    }
   ],
   "source": [
    "# Hourglass Pattern\n",
    "def pattern(n):\n",
    "    k = n - 2\n",
    "    for i in range(n,-1,-1):\n",
    "        for j in range(k,0,-1) :\n",
    "            print(end = \" \" )\n",
    "        k = k + 1\n",
    "        for j in range (0,i + 1):\n",
    "            print(\"* \" , end = \"\")\n",
    "        print(\"\\r\")\n",
    "    k = 2 * n - 2\n",
    "    for i in range(0,n+1):\n",
    "        for j in range(0,k):\n",
    "            print(end = \" \" )\n",
    "        k = k - 1\n",
    "        for j in range (0,i + 1):\n",
    "            print(\"* \" , end = \"\")\n",
    "        print(\"\\r\")\n",
    "pattern(10)\n",
    "    "
   ]
  },
  {
   "cell_type": "code",
   "execution_count": 1,
   "id": "9baaf816-7f0a-417d-9d0f-737e710f9e77",
   "metadata": {},
   "outputs": [
    {
     "name": "stdout",
     "output_type": "stream",
     "text": [
      "* \n",
      "* * \n",
      "* * * \n",
      "* * * * \n",
      "* * * * * \n",
      "* * * * * * \n",
      "* * * * * * * \n",
      "* * * * * * * * \n",
      "* * * * * * * * * \n",
      "* * * * * * * * * * \n"
     ]
    }
   ],
   "source": [
    "# Half Pyramid Pattern\n",
    "def pattern (n):\n",
    "    for i in range(0,n):\n",
    "        for j in range(0,i + 1):\n",
    "             print(\"* \" , end = \"\")\n",
    "        print(\"\\r\")\n",
    "pattern(10)"
   ]
  },
  {
   "cell_type": "code",
   "execution_count": 2,
   "id": "83e362af-5b89-449e-bd03-7f6f69f0534a",
   "metadata": {},
   "outputs": [
    {
     "name": "stdout",
     "output_type": "stream",
     "text": [
      "                  * \n",
      "                * * \n",
      "              * * * \n",
      "            * * * * \n",
      "          * * * * * \n",
      "        * * * * * * \n",
      "      * * * * * * * \n",
      "    * * * * * * * * \n",
      "  * * * * * * * * * \n",
      "* * * * * * * * * * \n"
     ]
    }
   ],
   "source": [
    "# Left Half Pyramid Pattern\n",
    "def pattern (n):\n",
    "    k = 2*n - 2\n",
    "    for i in range(0,n):\n",
    "        for j in range(0,k):\n",
    "            print(end = \" \")\n",
    "        k = k - 2\n",
    "        for j in range(0,i + 1):\n",
    "             print(\"* \" , end = \"\")\n",
    "        print(\"\\r\")\n",
    "pattern(10)\n",
    "\n",
    "            \n",
    "       "
   ]
  },
  {
   "cell_type": "code",
   "execution_count": 5,
   "id": "ad6d6ead-67b6-4540-a459-ee7aa163124c",
   "metadata": {},
   "outputs": [
    {
     "name": "stdout",
     "output_type": "stream",
     "text": [
      "* * * * * * * * * * * \n",
      "* * * * * * * * * * \n",
      "* * * * * * * * * \n",
      "* * * * * * * * \n",
      "* * * * * * * \n",
      "* * * * * * \n",
      "* * * * * \n",
      "* * * * \n",
      "* * * \n",
      "* * \n",
      "* \n"
     ]
    }
   ],
   "source": [
    "# Downward Half Pyramid\n",
    "def pattern (n):\n",
    "    for i in range(n,-1,-1):\n",
    "        for j in range(0,i + 1):\n",
    "             print(\"* \" , end = \"\")\n",
    "        print(\"\\r\")\n",
    "pattern(10)"
   ]
  },
  {
   "cell_type": "code",
   "execution_count": 11,
   "id": "a596ac56-a8dc-4409-b0fe-dcad620aaebc",
   "metadata": {},
   "outputs": [
    {
     "name": "stdout",
     "output_type": "stream",
     "text": [
      "                  * \n",
      "                 * * \n",
      "                * * * \n",
      "               * * * * \n",
      "              * * * * * \n",
      "             * * * * * * \n",
      "            * * * * * * * \n",
      "           * * * * * * * * \n",
      "          * * * * * * * * * \n",
      "         * * * * * * * * * * \n",
      "        * * * * * * * * * * * \n",
      "         * * * * * * * * * * \n",
      "          * * * * * * * * * \n",
      "           * * * * * * * * \n",
      "            * * * * * * * \n",
      "             * * * * * * \n",
      "              * * * * * \n",
      "               * * * * \n",
      "                * * * \n",
      "                 * * \n",
      "                  * \n"
     ]
    }
   ],
   "source": [
    "# Diamond Pattern\n",
    "def pattern (n):\n",
    "    k = 2*n - 2\n",
    "    for i in range(0,n):\n",
    "        for j in range(0,k):\n",
    "            print(end = \" \")\n",
    "        k = k - 1\n",
    "        for j in range(0,i + 1):\n",
    "             print(\"* \" , end = \"\")\n",
    "        print(\"\\r\")\n",
    "    k = n - 2\n",
    "    for i in range (n,-1,-1):\n",
    "        for j in range(k,0,-1):\n",
    "             print(end = \" \")\n",
    "        k = k + 1\n",
    "        for j in range(0,i+1):\n",
    "            print(\"* \" , end = \"\")\n",
    "        print(\"\\r\")\n",
    "            \n",
    "            \n",
    "pattern(10)"
   ]
  },
  {
   "cell_type": "code",
   "execution_count": 15,
   "id": "41e60e38-c568-4d65-9eed-a86af2179c16",
   "metadata": {},
   "outputs": [
    {
     "name": "stdout",
     "output_type": "stream",
     "text": [
      "    *     \n",
      "  *   *   \n",
      "*       * \n",
      "  *   *   \n",
      "    *     \n"
     ]
    }
   ],
   "source": [
    "# diamond star pattern \n",
    "for i in range(5):\n",
    "    for j in range(5):\n",
    "        if i + j == 2 or i - j == 2 or i + j == 6 or j - i == 2:\n",
    "             print(\"* \" , end = \"\")\n",
    "        else:\n",
    "            print(end = \"  \")\n",
    "    print()\n",
    "            "
   ]
  },
  {
   "cell_type": "code",
   "execution_count": null,
   "id": "7ca162a6-3c01-4e8f-a88e-f55c5111fe43",
   "metadata": {},
   "outputs": [],
   "source": []
  }
 ],
 "metadata": {
  "kernelspec": {
   "display_name": "Python 3 (ipykernel)",
   "language": "python",
   "name": "python3"
  },
  "language_info": {
   "codemirror_mode": {
    "name": "ipython",
    "version": 3
   },
   "file_extension": ".py",
   "mimetype": "text/x-python",
   "name": "python",
   "nbconvert_exporter": "python",
   "pygments_lexer": "ipython3",
   "version": "3.12.6"
  }
 },
 "nbformat": 4,
 "nbformat_minor": 5
}

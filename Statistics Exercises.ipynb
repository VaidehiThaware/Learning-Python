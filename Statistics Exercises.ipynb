{
 "cells": [
  {
   "cell_type": "markdown",
   "id": "9ed79a39-cdac-41cd-9f0e-8a8d438a3f19",
   "metadata": {},
   "source": [
    "### Statistics Program - Mean\n",
    "\n",
    "- Write a function that takes a list `L` of numbers and returns its mean.\n",
    "\n",
    "The formula for the mean is:\n",
    "\n",
    "$$ \\text{Mean} = \\frac{1}{n} \\sum_{i=1}^{n} X_i $$\n"
   ]
  },
  {
   "cell_type": "code",
   "execution_count": 29,
   "id": "a5dfdd64-2b0a-4f57-9587-743e9dbfea4e",
   "metadata": {},
   "outputs": [
    {
     "name": "stdout",
     "output_type": "stream",
     "text": [
      "[455, 519, 771, 972, 8, 922, 180, 903, 775, 138, 693, 872, 766, 503, 743, 243, 999, 589, 932, 396, 400, 26, 975, 223, 497, 554, 318, 839, 884, 113, 113, 223, 166, 988, 454, 342, 320, 970, 995, 346, 814, 41, 60, 360, 478, 1, 415, 122, 860, 133, 43, 551, 610, 66, 668, 772, 133, 433, 881, 478, 149, 318, 303, 61, 365, 918, 46, 492, 275, 977, 922, 622, 439, 873, 787, 714, 649, 983, 906, 676, 263, 240, 789, 991, 655, 161, 808, 425, 421, 907, 840, 925, 287, 557, 865, 925, 420, 547, 836, 997]\n"
     ]
    }
   ],
   "source": [
    "import random\n",
    "List = []\n",
    "# Initializing an empty list to store the random numbers\n",
    "for i in range (100):\n",
    "    # Appending a random integer between 1 and 1000 to the list\n",
    "    List.append(random.randint(1,1000))\n",
    "# Printing the list of 100 random numbers\n",
    "print(List)"
   ]
  },
  {
   "cell_type": "code",
   "execution_count": 30,
   "id": "3f3a1457-1abf-48f4-9650-484a50e70c9f",
   "metadata": {},
   "outputs": [],
   "source": [
    "def mean(L):\n",
    "    # Calculate the number of elements in the list L\n",
    "    n = len(L)\n",
    "    \n",
    "    # Initialize a variable to accumulate the sum of the elements\n",
    "    total = 0\n",
    "    \n",
    "    # Iterate over each value in the list L\n",
    "    for val in L:\n",
    "        # Add the current value to the total sum\n",
    "        total += val\n",
    "    \n",
    "    # Calculate the mean by dividing the total sum by the number of elements\n",
    "    mean = total / n\n",
    "    \n",
    "    # Return the calculated mean value\n",
    "    return mean\n"
   ]
  },
  {
   "cell_type": "code",
   "execution_count": 24,
   "id": "65629235-30d9-42e8-9a00-10e4ea1122ca",
   "metadata": {},
   "outputs": [
    {
     "name": "stdout",
     "output_type": "stream",
     "text": [
      "540.75\n"
     ]
    }
   ],
   "source": [
    "# Printing the Mean of the provided list.\n",
    "print (mean(List))"
   ]
  },
  {
   "cell_type": "markdown",
   "id": "1bd2fd45-c740-4599-8145-7f92c5afc2fa",
   "metadata": {},
   "source": [
    "### Statistics Program - Median\n",
    "\n",
    "- Write a function that takes a list `L` of numbers and returns its median.\n",
    "\n",
    "The formula for the median is:\n",
    "\n",
    "For a sorted list of size \\(n\\):\n",
    "\n",
    "1. If \\(n\\) is odd:\n",
    "   $$ \\text{Median} = X_{\\frac{n+1}{2}} $$\n",
    "\n",
    "2. If \\(n\\) is even:\n",
    "   $$ \\text{Median} = \\frac{X_{\\frac{n}{2}} + X_{\\frac{n}{2} + 1}}{2} $$\n"
   ]
  },
  {
   "cell_type": "code",
   "execution_count": 31,
   "id": "57cd5c63-6b7a-414f-9094-7764b833321f",
   "metadata": {},
   "outputs": [
    {
     "name": "stdout",
     "output_type": "stream",
     "text": [
      "[98, 615, 723, 607, 506, 829, 473, 226, 92, 923, 283, 553, 291, 227, 281, 304, 981, 154, 691, 973, 602, 109, 62, 32, 175, 265, 423, 902, 547, 834, 380, 257, 425, 996, 801, 693, 217, 207, 655, 946, 918, 668, 191, 365, 665, 998, 460, 680, 840, 587, 148, 727, 642, 41, 417, 78, 574, 228, 165, 875, 112, 141, 367, 396, 329, 343, 249, 656, 217, 970, 457, 364, 856, 541, 30, 993, 736, 900, 218, 128, 900, 901, 752, 833, 274, 815, 668, 367, 637, 436, 952, 804, 651, 73, 33, 770, 291, 834, 345, 347]\n"
     ]
    }
   ],
   "source": [
    "import random\n",
    "# Initializing an empty list to store the random numbers\n",
    "List = []\n",
    "for i in range(100):\n",
    "    # Appending a random integer between 1 and 1000 to the list\n",
    "    List.append(random.randint(1, 1000))\n",
    "# Printing the list of 100 random numbers\n",
    "print(List)\n"
   ]
  },
  {
   "cell_type": "code",
   "execution_count": 32,
   "id": "e139af2a-d457-4360-bd13-41bb29ea53cc",
   "metadata": {},
   "outputs": [],
   "source": [
    "# Sort the list\n",
    "def median(L):\n",
    "    L.sort()  \n",
    "    # Get the length of the list\n",
    "    n = len(L)  \n",
    "    if n % 2 == 1:\n",
    "        # If odd, take the middle element\n",
    "        med = L[n // 2]\n",
    "    else:\n",
    "        # If even, take the average of two middle elements\n",
    "        med = (L[n // 2 - 1] + L[n // 2]) / 2\n",
    "    # Return the median\n",
    "    return med  \n",
    "\n"
   ]
  },
  {
   "cell_type": "code",
   "execution_count": 33,
   "id": "bf9fd089-ef50-4a91-9c21-0fa6dd75bd8a",
   "metadata": {},
   "outputs": [
    {
     "name": "stdout",
     "output_type": "stream",
     "text": [
      "466.5\n"
     ]
    }
   ],
   "source": [
    "# Printing the Median of the provided list\n",
    "print(median(List))"
   ]
  },
  {
   "cell_type": "markdown",
   "id": "a1167871-4fb6-44a5-9ead-dbd5b6130b2b",
   "metadata": {},
   "source": [
    "### Statistics Program - Standard Deviation\n",
    "\n",
    "- Write a function that takes a list `L` of numbers and returns its standard deviation.\n",
    "\n",
    "The formula for standard deviation is:\n",
    "\n",
    "$$ \\sigma = \\sqrt{\\frac{1}{n} \\sum_{i=1}^{n} (X_i - \\mu)^2} $$\n",
    "\n",
    "Where:\n",
    "- \\( \\sigma \\) = Standard deviation\n",
    "- \\( X_i \\) = Each individual data point\n",
    "- \\( \\mu \\) = Mean of the data\n",
    "- \\( n \\) = Number of data points\n"
   ]
  },
  {
   "cell_type": "code",
   "execution_count": 34,
   "id": "a9425f2f-dc1f-40dd-801c-cc23ac579cb0",
   "metadata": {},
   "outputs": [
    {
     "name": "stdout",
     "output_type": "stream",
     "text": [
      "[730, 993, 698, 834, 639, 590, 197, 99, 436, 671, 914, 482, 501, 855, 303, 418, 201, 185, 959, 369, 752, 60, 362, 410, 348, 979, 934, 598, 580, 214, 962, 303, 531, 935, 817, 85, 681, 311, 693, 279, 949, 571, 58, 394, 924, 616, 299, 364, 763, 257, 599, 888, 764, 646, 400, 196, 563, 145, 823, 420, 950, 281, 414, 490, 665, 780, 866, 370, 316, 869, 2, 509, 934, 250, 141, 563, 911, 154, 79, 915, 705, 33, 454, 746, 535, 908, 260, 631, 256, 580, 674, 380, 491, 408, 137, 86, 612, 458, 380, 78]\n"
     ]
    }
   ],
   "source": [
    "import random\n",
    "List = []\n",
    "# Initializing an empty list to store the random numbers.\n",
    "for i in range (100):\n",
    "    # Appending any random integer between 1 and 1000 to the list.\n",
    "    List.append(random.randint(1,1000))\n",
    "# Printing the list of 100 random numbers\n",
    "print(List)"
   ]
  },
  {
   "cell_type": "code",
   "execution_count": 35,
   "id": "3c3b4076-f438-41ce-8413-7382c0f88c36",
   "metadata": {},
   "outputs": [],
   "source": [
    "# Number of elements\n",
    "def mean(L):\n",
    "    n = len(L)  \n",
    "    total = 0\n",
    "    # Sum of elements\n",
    "    for val in L:\n",
    "        total += val  \n",
    "    # Mean = total / number of elements\n",
    "    return total / n  \n",
    "\n",
    "# Get the mean\n",
    "def sd(L):\n",
    "    mu = mean(L)  \n",
    "    total = 0\n",
    "    # Sum of squared differences\n",
    "    for val in L:\n",
    "        total += (val - mu) ** 2  \n",
    "    # Variance = total / number of elements\n",
    "    total = total / len(L)  \n",
    "    # Standard deviation = square root of variance\n",
    "    return total ** 0.5  \n"
   ]
  },
  {
   "cell_type": "code",
   "execution_count": 36,
   "id": "a46e114e-4c28-4e72-851e-ecc540e3760e",
   "metadata": {},
   "outputs": [
    {
     "name": "stdout",
     "output_type": "stream",
     "text": [
      "277.78032255723224\n"
     ]
    }
   ],
   "source": [
    "# Printing the Standard Deviation of the provided list. \n",
    "print(sd(List))"
   ]
  },
  {
   "cell_type": "code",
   "execution_count": null,
   "id": "b010bac2-d6a1-4f05-ab47-fca7a5795dad",
   "metadata": {},
   "outputs": [],
   "source": []
  }
 ],
 "metadata": {
  "kernelspec": {
   "display_name": "Python 3 (ipykernel)",
   "language": "python",
   "name": "python3"
  },
  "language_info": {
   "codemirror_mode": {
    "name": "ipython",
    "version": 3
   },
   "file_extension": ".py",
   "mimetype": "text/x-python",
   "name": "python",
   "nbconvert_exporter": "python",
   "pygments_lexer": "ipython3",
   "version": "3.12.6"
  }
 },
 "nbformat": 4,
 "nbformat_minor": 5
}

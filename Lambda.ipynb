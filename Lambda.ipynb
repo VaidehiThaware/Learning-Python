{
 "cells": [
  {
   "cell_type": "code",
   "execution_count": 1,
   "id": "d39d3e17-2baf-4bad-b921-e64379693787",
   "metadata": {},
   "outputs": [],
   "source": [
    "def prod(x,y):\n",
    "    return x*y"
   ]
  },
  {
   "cell_type": "code",
   "execution_count": 3,
   "id": "5baba401-3ee6-490f-9a9d-862bb645ee66",
   "metadata": {},
   "outputs": [],
   "source": [
    "def sum(x,y):\n",
    "    return x+y"
   ]
  },
  {
   "cell_type": "code",
   "execution_count": 5,
   "id": "0c462613-9438-4061-b210-5a96b2bcbbf7",
   "metadata": {},
   "outputs": [],
   "source": [
    "def combine(foo,a,b):\n",
    "    return foo(a,b)"
   ]
  },
  {
   "cell_type": "code",
   "execution_count": 9,
   "id": "7965ad64-f7d0-43b2-8329-cf7e94618192",
   "metadata": {},
   "outputs": [
    {
     "data": {
      "text/plain": [
       "3"
      ]
     },
     "execution_count": 9,
     "metadata": {},
     "output_type": "execute_result"
    }
   ],
   "source": [
    "combine (sum,1,2)"
   ]
  },
  {
   "cell_type": "code",
   "execution_count": 11,
   "id": "a4efc80c-38c9-4800-b90c-1420138a8bc4",
   "metadata": {},
   "outputs": [
    {
     "data": {
      "text/plain": [
       "12"
      ]
     },
     "execution_count": 11,
     "metadata": {},
     "output_type": "execute_result"
    }
   ],
   "source": [
    "combine(prod,3,4)"
   ]
  },
  {
   "cell_type": "code",
   "execution_count": 13,
   "id": "89ff622c-5ea0-4652-a638-d995ec9ddf16",
   "metadata": {},
   "outputs": [
    {
     "data": {
      "text/plain": [
       "function"
      ]
     },
     "execution_count": 13,
     "metadata": {},
     "output_type": "execute_result"
    }
   ],
   "source": [
    "type(sum)"
   ]
  },
  {
   "cell_type": "code",
   "execution_count": 17,
   "id": "efcea2ff-7e0c-4be8-b8ef-0f1caa12c4cc",
   "metadata": {},
   "outputs": [
    {
     "name": "stdout",
     "output_type": "stream",
     "text": [
      "[(110, 99), (132, 85), (213, 90.5)]\n"
     ]
    }
   ],
   "source": [
    "L = [(213,90.5),(132,85),(110,99)]\n",
    "L.sort()\n",
    "print(L)"
   ]
  },
  {
   "cell_type": "code",
   "execution_count": 19,
   "id": "7ea385c8-ddb7-4f96-b1de-b01808533a9e",
   "metadata": {},
   "outputs": [],
   "source": [
    "def ret2(a):\n",
    "    return a[1]"
   ]
  },
  {
   "cell_type": "code",
   "execution_count": 23,
   "id": "3e28ccd5-abf2-4432-85d8-9c8fe87533dd",
   "metadata": {},
   "outputs": [
    {
     "name": "stdout",
     "output_type": "stream",
     "text": [
      "[(132, 85), (213, 90.5), (110, 99)]\n"
     ]
    }
   ],
   "source": [
    "L.sort(key = ret2)\n",
    "print(L)"
   ]
  },
  {
   "cell_type": "code",
   "execution_count": 25,
   "id": "35e8699f-66a9-41bb-814e-663a4cc704c3",
   "metadata": {},
   "outputs": [
    {
     "name": "stdout",
     "output_type": "stream",
     "text": [
      "[(132, 85), (213, 90.5), (110, 99)]\n"
     ]
    }
   ],
   "source": [
    "L.sort(key = lambda z : z[1])\n",
    "print(L)"
   ]
  },
  {
   "cell_type": "code",
   "execution_count": 31,
   "id": "8d4f558a-fa7f-4a9b-9ce2-028bc07aa86d",
   "metadata": {},
   "outputs": [
    {
     "name": "stdout",
     "output_type": "stream",
     "text": [
      "[0.6293249762016111, 0.7173514131930058, 0.8719467757178433, 0.12514239565610108, 0.5931692775049234, 0.24053201833056848, 0.958321731570088, 0.7842058372005258, 0.5747148449164649, 0.5657140603017444]\n"
     ]
    }
   ],
   "source": [
    "import random\n",
    "list = [random.random() for i in range (10)]\n",
    "print(list)"
   ]
  },
  {
   "cell_type": "code",
   "execution_count": 33,
   "id": "cb43e79b-424a-45e1-8324-8d1eab17d605",
   "metadata": {},
   "outputs": [
    {
     "name": "stdout",
     "output_type": "stream",
     "text": [
      "[0.12514239565610108, 0.24053201833056848, 0.5657140603017444, 0.5747148449164649, 0.5931692775049234, 0.6293249762016111, 0.7173514131930058, 0.7842058372005258, 0.8719467757178433, 0.958321731570088]\n"
     ]
    }
   ],
   "source": [
    "list.sort()\n",
    "print(list)"
   ]
  },
  {
   "cell_type": "code",
   "execution_count": 39,
   "id": "ef09ca3d-4276-4b20-ae0a-bcc082bf8845",
   "metadata": {},
   "outputs": [
    {
     "name": "stdout",
     "output_type": "stream",
     "text": [
      "[0.24053201833056848, 0.8719467757178433, 0.5931692775049234, 0.7842058372005258, 0.5747148449164649, 0.12514239565610108, 0.5657140603017444, 0.7173514131930058, 0.958321731570088, 0.6293249762016111]\n"
     ]
    }
   ],
   "source": [
    "list.sort(key = lambda z: (z*100-int(z*100)))\n",
    "print(list)"
   ]
  },
  {
   "cell_type": "code",
   "execution_count": null,
   "id": "e6914628-6e60-432d-a150-617cad62c159",
   "metadata": {},
   "outputs": [],
   "source": []
  }
 ],
 "metadata": {
  "kernelspec": {
   "display_name": "Python [conda env:base] *",
   "language": "python",
   "name": "conda-base-py"
  },
  "language_info": {
   "codemirror_mode": {
    "name": "ipython",
    "version": 3
   },
   "file_extension": ".py",
   "mimetype": "text/x-python",
   "name": "python",
   "nbconvert_exporter": "python",
   "pygments_lexer": "ipython3",
   "version": "3.12.7"
  }
 },
 "nbformat": 4,
 "nbformat_minor": 5
}

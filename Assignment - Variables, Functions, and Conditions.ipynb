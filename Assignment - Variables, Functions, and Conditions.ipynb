{
 "cells": [
  {
   "cell_type": "markdown",
   "id": "eb7717eb-59b1-4fef-b9da-4913879710f6",
   "metadata": {},
   "source": [
    "# Assignment 1: Variables, Functions, and Conditions"
   ]
  },
  {
   "cell_type": "markdown",
   "id": "322cea4f-8cb6-47f4-90de-a51b9b36d540",
   "metadata": {},
   "source": [
    "### 1.Create a global variable message = \"Hello\" and inside the function greet(), declare a local variable message = \"World\". Print both values inside and outside the function."
   ]
  },
  {
   "cell_type": "code",
   "execution_count": 1,
   "id": "6353f1d5-a21d-4ba7-a8f7-9c556ef190df",
   "metadata": {},
   "outputs": [
    {
     "name": "stdout",
     "output_type": "stream",
     "text": [
      "World\n",
      "Hello\n"
     ]
    }
   ],
   "source": [
    "message = \"Hello\"\n",
    "def greet():\n",
    "    message = \"World\"\n",
    "    print(message)\n",
    "greet()\n",
    "print(message)"
   ]
  },
  {
   "cell_type": "markdown",
   "id": "31825824-7d03-499f-9874-1c932f4547ff",
   "metadata": {},
   "source": [
    "### 2.Write a program to determine the data type of the variable a = 5.7."
   ]
  },
  {
   "cell_type": "code",
   "execution_count": 2,
   "id": "d27582bb-7655-4a31-858f-1e0c8b6c0603",
   "metadata": {},
   "outputs": [
    {
     "name": "stdout",
     "output_type": "stream",
     "text": [
      "<class 'float'>\n"
     ]
    }
   ],
   "source": [
    "a = 5.7\n",
    "print(type(a))"
   ]
  },
  {
   "cell_type": "markdown",
   "id": "84932ffd-0866-4ba9-8027-c111d7b8bf8c",
   "metadata": {},
   "source": [
    "### 3.Create a program that checks whether the number entered by the user is divisible by 3 or 4, and prints \"Divisible by 3 or 4\" or \"Not divisible by 3 or 4\" accordingly."
   ]
  },
  {
   "cell_type": "code",
   "execution_count": 6,
   "id": "3970b78d-f4a3-4a93-8ba3-52119baf7ec1",
   "metadata": {},
   "outputs": [
    {
     "name": "stdin",
     "output_type": "stream",
     "text": [
      "Enter a number: 5\n"
     ]
    },
    {
     "name": "stdout",
     "output_type": "stream",
     "text": [
      "Not divisible by 3 or 4\n"
     ]
    }
   ],
   "source": [
    "number = (int(input(\"Enter a number:\")))\n",
    "if(number % 3 == 0 or number % 4 == 0 ):\n",
    "    print(\"Divisible by 3 or 4\")\n",
    "else:\n",
    "    print(\"Not divisible by 3 or 4\")\n"
   ]
  },
  {
   "cell_type": "markdown",
   "id": "a82f4ce5-2538-463c-bf77-0aadad6f52aa",
   "metadata": {},
   "source": [
    "### 4.Write a program that assigns a number to rating and checks if it is less than 4, between 4 and 5, or greater than 5. Print corresponding messages."
   ]
  },
  {
   "cell_type": "code",
   "execution_count": 11,
   "id": "d5f1f8a1-7dae-4175-8bd3-de1ca018e076",
   "metadata": {},
   "outputs": [
    {
     "name": "stdin",
     "output_type": "stream",
     "text": [
      "Enter a number: 4.5\n"
     ]
    },
    {
     "name": "stdout",
     "output_type": "stream",
     "text": [
      "Average Rating\n"
     ]
    }
   ],
   "source": [
    "number = (float(input(\"Enter a number:\")))\n",
    "if(number < 4):\n",
    "    print(\"Poor Rating!!!\")\n",
    "elif(number >= 4 and number <= 5):\n",
    "    print(\"Average Rating\")\n",
    "else:\n",
    "    print(\"Good Rating\")"
   ]
  },
  {
   "cell_type": "markdown",
   "id": "d9947768-4e64-4c01-a53a-ac7e23a12c05",
   "metadata": {},
   "source": [
    "### 5.Create a program that accepts a number from the user and checks if it is divisible by both 7 and 11. If it is, print \"Divisible by 7 and 11\"."
   ]
  },
  {
   "cell_type": "code",
   "execution_count": 13,
   "id": "478641a1-7e47-4f9c-a4ba-33ba0004a939",
   "metadata": {},
   "outputs": [
    {
     "name": "stdin",
     "output_type": "stream",
     "text": [
      "Enter a number: 8\n"
     ]
    },
    {
     "name": "stdout",
     "output_type": "stream",
     "text": [
      "Not divivsible by 7 and 11\n"
     ]
    }
   ],
   "source": [
    "number = (int(input(\"Enter a number:\")))\n",
    "if(number % 7 == 0 and number % 11 == 0):\n",
    "    print(\"Divible by 7 and 11\")\n",
    "else:\n",
    "    print(\"Not divivsible by 7 and 11\")"
   ]
  },
  {
   "cell_type": "markdown",
   "id": "47e2721f-44a2-4ec4-9971-fbad3f1e86cb",
   "metadata": {},
   "source": [
    "### 6.Write a program to calculate and print the factorial of a positive integer entered by the user."
   ]
  },
  {
   "cell_type": "code",
   "execution_count": 19,
   "id": "70935510-c908-478c-9a87-2265cd3320ac",
   "metadata": {},
   "outputs": [
    {
     "name": "stdin",
     "output_type": "stream",
     "text": [
      "Enter the number: 9\n"
     ]
    },
    {
     "name": "stdout",
     "output_type": "stream",
     "text": [
      "362880\n"
     ]
    }
   ],
   "source": [
    "number = (int(input(\"Enter the number:\")))\n",
    "if(number < 0):\n",
    "    print(\"Please enter a positive number\")\n",
    "elif(number == 0):\n",
    "    print(\"Factorial = 1\")\n",
    "else:\n",
    "    factorial = 1\n",
    "    for i in range(1,number + 1):\n",
    "        factorial *= i\n",
    "    print(factorial)"
   ]
  },
  {
   "cell_type": "markdown",
   "id": "9f42ef7c-04d9-49b7-909e-f2af0b2bb50f",
   "metadata": {},
   "source": [
    "### 7.Create a program that checks whether the input number is positive, negative, or zero and prints the appropriate message."
   ]
  },
  {
   "cell_type": "code",
   "execution_count": 22,
   "id": "46d2fd23-b815-4faa-b255-e0393ef603d9",
   "metadata": {},
   "outputs": [
    {
     "name": "stdin",
     "output_type": "stream",
     "text": [
      "Enter the number: 9\n"
     ]
    },
    {
     "name": "stdout",
     "output_type": "stream",
     "text": [
      "Entered number is positive number.\n"
     ]
    }
   ],
   "source": [
    "number = (int(input(\"Enter the number:\")))\n",
    "if (number < 0):\n",
    "    print(\"Entered number is a negative number.\")\n",
    "elif(number == 0):\n",
    "    print(\"Entered number is 0.\")\n",
    "else:\n",
    "    print(\"Entered number is positive number.\")"
   ]
  },
  {
   "cell_type": "markdown",
   "id": "a6d8eac7-c76d-4239-942a-392e79326fdd",
   "metadata": {},
   "source": [
    "### 8.Write a program that uses an if-elif-else statement to check whether a number is even or odd."
   ]
  },
  {
   "cell_type": "code",
   "execution_count": 23,
   "id": "3e46c7fc-5a83-4fd4-9e19-81c9e7e081c0",
   "metadata": {},
   "outputs": [
    {
     "name": "stdin",
     "output_type": "stream",
     "text": [
      "Enter the number: 9\n"
     ]
    },
    {
     "name": "stdout",
     "output_type": "stream",
     "text": [
      "Entered number is odd.\n"
     ]
    }
   ],
   "source": [
    "number = int(input(\"Enter the number:\"))\n",
    "if(number % 2 == 0):\n",
    "    print(\"Entered number is even.\")\n",
    "else:\n",
    "    print(\"Entered number is odd.\")"
   ]
  },
  {
   "cell_type": "markdown",
   "id": "6ec68027-b106-4561-9dc4-2a1b288473c7",
   "metadata": {},
   "source": [
    "### 9.Write a program to check if the input number is divisible by 5, and print either \"Divisible by 5\" or \"Not divisible by 5\"."
   ]
  },
  {
   "cell_type": "code",
   "execution_count": 24,
   "id": "a40a2288-511e-47cf-86d0-88bc17bc82d0",
   "metadata": {},
   "outputs": [
    {
     "name": "stdin",
     "output_type": "stream",
     "text": [
      "Enter a number: 70\n"
     ]
    },
    {
     "name": "stdout",
     "output_type": "stream",
     "text": [
      "Divisible by 5\n"
     ]
    }
   ],
   "source": [
    "number = (int(input(\"Enter a number:\")))\n",
    "if(number % 5 == 0):\n",
    "    print(\"Divisible by 5\")\n",
    "else:\n",
    "    print(\"Not divisible by 5\")"
   ]
  },
  {
   "cell_type": "markdown",
   "id": "4cff68e8-2d21-4400-b850-15f0921b98a4",
   "metadata": {},
   "source": [
    "### 10.Write a program that asks the user to enter a number and checks if it is prime or not."
   ]
  },
  {
   "cell_type": "code",
   "execution_count": 27,
   "id": "ee5e3b0e-98bb-4145-9af0-dff29363b991",
   "metadata": {},
   "outputs": [
    {
     "name": "stdin",
     "output_type": "stream",
     "text": [
      "Enter a number:  2\n"
     ]
    },
    {
     "name": "stdout",
     "output_type": "stream",
     "text": [
      "2  is a prime number.\n"
     ]
    }
   ],
   "source": [
    "number = int(input(\"Enter a number: \"))\n",
    "if number > 1:\n",
    "    for i in range(2, number):\n",
    "        if number % i == 0:\n",
    "            print(number,\"is a Prime number\")\n",
    "            break\n",
    "    else:\n",
    "        print(number,\" is a prime number.\")\n",
    "else:\n",
    "    print(number,\"is not a prime number.\")\n"
   ]
  },
  {
   "cell_type": "code",
   "execution_count": null,
   "id": "f75ba71a-c9a8-40b7-8155-b5e1df3d5ee6",
   "metadata": {},
   "outputs": [],
   "source": []
  }
 ],
 "metadata": {
  "kernelspec": {
   "display_name": "Python 3 (ipykernel)",
   "language": "python",
   "name": "python3"
  },
  "language_info": {
   "codemirror_mode": {
    "name": "ipython",
    "version": 3
   },
   "file_extension": ".py",
   "mimetype": "text/x-python",
   "name": "python",
   "nbconvert_exporter": "python",
   "pygments_lexer": "ipython3",
   "version": "3.12.6"
  }
 },
 "nbformat": 4,
 "nbformat_minor": 5
}

{
 "cells": [
  {
   "cell_type": "markdown",
   "id": "5f05d042-9fde-4f67-a2a1-e092a4278f9c",
   "metadata": {},
   "source": [
    "### Vertical Stacking:\n",
    "#### - It stacks arrays vertically (row-wise).\n",
    "#### - The arrays must have the same number of columns."
   ]
  },
  {
   "cell_type": "code",
   "execution_count": 3,
   "id": "3225671a-d571-4834-8b63-aa556a304a1a",
   "metadata": {},
   "outputs": [
    {
     "name": "stdout",
     "output_type": "stream",
     "text": [
      "[[1 2]\n",
      " [3 4]\n",
      " [5 6]]\n"
     ]
    }
   ],
   "source": [
    "import numpy as np\n",
    "\n",
    "a = np.array([[1, 2], [3, 4]])\n",
    "b = np.array([[5, 6]])\n",
    "\n",
    "result = np.vstack((a, b))\n",
    "print(result)\n"
   ]
  },
  {
   "cell_type": "markdown",
   "id": "548fa4ec-a85c-4588-9f18-ec11430eef2e",
   "metadata": {},
   "source": [
    "### Horizontal Stacking\n",
    "#### - It stacks arrays horizontally (column-wise).\n",
    "#### - The arrays must have the same number of rows."
   ]
  },
  {
   "cell_type": "code",
   "execution_count": 7,
   "id": "3321759f-7444-471a-9350-29baf6d087cb",
   "metadata": {},
   "outputs": [
    {
     "name": "stdout",
     "output_type": "stream",
     "text": [
      "[[1 2 5]\n",
      " [3 4 6]]\n"
     ]
    }
   ],
   "source": [
    "import numpy as np\n",
    "\n",
    "a = np.array([[1, 2], [3, 4]])\n",
    "b = np.array([[5], [6]])\n",
    "\n",
    "result = np.hstack((a, b))\n",
    "print(result)\n"
   ]
  },
  {
   "cell_type": "code",
   "execution_count": null,
   "id": "f8bb29b4-6f2a-4ab8-bb4c-a5af12712e16",
   "metadata": {},
   "outputs": [],
   "source": []
  }
 ],
 "metadata": {
  "kernelspec": {
   "display_name": "Python [conda env:base] *",
   "language": "python",
   "name": "conda-base-py"
  },
  "language_info": {
   "codemirror_mode": {
    "name": "ipython",
    "version": 3
   },
   "file_extension": ".py",
   "mimetype": "text/x-python",
   "name": "python",
   "nbconvert_exporter": "python",
   "pygments_lexer": "ipython3",
   "version": "3.12.7"
  }
 },
 "nbformat": 4,
 "nbformat_minor": 5
}

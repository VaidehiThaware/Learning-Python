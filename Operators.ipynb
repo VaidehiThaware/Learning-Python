{
 "cells": [
  {
   "cell_type": "markdown",
   "id": "c2c3029c-16db-4def-ab05-26fdec9897a4",
   "metadata": {},
   "source": [
    "# Operators"
   ]
  },
  {
   "cell_type": "markdown",
   "id": "bd66bb10-1ae6-448f-8cfa-42742060d84b",
   "metadata": {},
   "source": [
    "### Arithmetic Operators"
   ]
  },
  {
   "cell_type": "code",
   "execution_count": 1,
   "id": "4ada1a90-4411-4e1f-8307-28fe833fa8c0",
   "metadata": {},
   "outputs": [
    {
     "name": "stdout",
     "output_type": "stream",
     "text": [
      "15\n",
      "5\n",
      "50\n",
      "2.0\n",
      "0\n",
      "100000\n",
      "2\n"
     ]
    }
   ],
   "source": [
    "x = 10\n",
    "y = 5\n",
    "print(x+y)\n",
    "print(x-y)\n",
    "print(x*y)\n",
    "print(x/y)\n",
    "print(x%y)\n",
    "print(x**y)\n",
    "print(x//y)\n",
    "\n"
   ]
  },
  {
   "cell_type": "markdown",
   "id": "542aaf14-6dea-4263-b732-de3025ea3d63",
   "metadata": {},
   "source": [
    "### Assignment Operators"
   ]
  },
  {
   "cell_type": "code",
   "execution_count": 13,
   "id": "8e4a1c37-30c6-48ac-8c51-ce166a818363",
   "metadata": {},
   "outputs": [
    {
     "name": "stdout",
     "output_type": "stream",
     "text": [
      "65\n",
      "50\n",
      "750\n",
      "50.0\n",
      "3.0\n",
      "14348907.0\n"
     ]
    }
   ],
   "source": [
    "a = 50\n",
    "a += 15\n",
    "print(a)\n",
    "a -= 15\n",
    "print(a)\n",
    "a *= 15\n",
    "print(a)\n",
    "a /= 15\n",
    "print(a)\n",
    "a //= 15\n",
    "print(a)\n",
    "a **= 15\n",
    "print(a)"
   ]
  },
  {
   "cell_type": "markdown",
   "id": "02acc120-8694-47dd-b08f-dcd5728fa94b",
   "metadata": {},
   "source": [
    "### Comparison Operators"
   ]
  },
  {
   "cell_type": "code",
   "execution_count": 14,
   "id": "d78f2ef3-48f4-467c-b78a-0f1103be72fb",
   "metadata": {},
   "outputs": [
    {
     "data": {
      "text/plain": [
       "False"
      ]
     },
     "execution_count": 14,
     "metadata": {},
     "output_type": "execute_result"
    }
   ],
   "source": [
    "a = 50\n",
    "a == 15"
   ]
  },
  {
   "cell_type": "code",
   "execution_count": 15,
   "id": "1898d00b-ece5-4dd0-9270-ed5d611e5def",
   "metadata": {},
   "outputs": [
    {
     "data": {
      "text/plain": [
       "True"
      ]
     },
     "execution_count": 15,
     "metadata": {},
     "output_type": "execute_result"
    }
   ],
   "source": [
    "a != 15"
   ]
  },
  {
   "cell_type": "code",
   "execution_count": 16,
   "id": "f1db23f6-7efe-45bb-b01e-ee298e427244",
   "metadata": {},
   "outputs": [
    {
     "data": {
      "text/plain": [
       "True"
      ]
     },
     "execution_count": 16,
     "metadata": {},
     "output_type": "execute_result"
    }
   ],
   "source": [
    "a > 15"
   ]
  },
  {
   "cell_type": "code",
   "execution_count": 17,
   "id": "8342bf5e-fd36-4c9c-9a63-89f14c01be3f",
   "metadata": {},
   "outputs": [
    {
     "data": {
      "text/plain": [
       "False"
      ]
     },
     "execution_count": 17,
     "metadata": {},
     "output_type": "execute_result"
    }
   ],
   "source": [
    "a < 15"
   ]
  },
  {
   "cell_type": "code",
   "execution_count": 18,
   "id": "52ee9b59-a338-46b5-ae20-3ef278a46fca",
   "metadata": {},
   "outputs": [
    {
     "data": {
      "text/plain": [
       "True"
      ]
     },
     "execution_count": 18,
     "metadata": {},
     "output_type": "execute_result"
    }
   ],
   "source": [
    "a >= 15"
   ]
  },
  {
   "cell_type": "code",
   "execution_count": 19,
   "id": "e316820c-d3b6-4c64-8e85-482b7968fdf7",
   "metadata": {},
   "outputs": [
    {
     "data": {
      "text/plain": [
       "False"
      ]
     },
     "execution_count": 19,
     "metadata": {},
     "output_type": "execute_result"
    }
   ],
   "source": [
    "a <= 15"
   ]
  },
  {
   "cell_type": "markdown",
   "id": "10a4d477-0275-4059-9cbb-a9bc2c5dc44e",
   "metadata": {},
   "source": [
    "### Logical Operators"
   ]
  },
  {
   "cell_type": "code",
   "execution_count": 20,
   "id": "eb7a20cb-8a44-4971-8e77-10001ff23653",
   "metadata": {},
   "outputs": [
    {
     "data": {
      "text/plain": [
       "False"
      ]
     },
     "execution_count": 20,
     "metadata": {},
     "output_type": "execute_result"
    }
   ],
   "source": [
    "# and operator\n",
    "x = 10\n",
    "x > 10 and x > 5"
   ]
  },
  {
   "cell_type": "code",
   "execution_count": 21,
   "id": "e64c74d5-d34a-42e5-97a8-9bfaa26c2949",
   "metadata": {},
   "outputs": [
    {
     "data": {
      "text/plain": [
       "True"
      ]
     },
     "execution_count": 21,
     "metadata": {},
     "output_type": "execute_result"
    }
   ],
   "source": [
    "# or operator\n",
    "x = 20\n",
    "x > 18 or x< 20"
   ]
  },
  {
   "cell_type": "code",
   "execution_count": 22,
   "id": "1fe556d0-e808-4cd4-94a7-c4bb78228cac",
   "metadata": {},
   "outputs": [
    {
     "data": {
      "text/plain": [
       "True"
      ]
     },
     "execution_count": 22,
     "metadata": {},
     "output_type": "execute_result"
    }
   ],
   "source": [
    "# not operator\n",
    "x = 90\n",
    "not(x < 89 and x > 89)"
   ]
  },
  {
   "cell_type": "markdown",
   "id": "1b1f662f-f7ed-4d4f-a91a-65beaede4bf9",
   "metadata": {},
   "source": [
    "###  Identity Operators"
   ]
  },
  {
   "cell_type": "code",
   "execution_count": 23,
   "id": "7a54ed7b-628e-4061-aeb8-9b35f5adc71b",
   "metadata": {},
   "outputs": [
    {
     "data": {
      "text/plain": [
       "False"
      ]
     },
     "execution_count": 23,
     "metadata": {},
     "output_type": "execute_result"
    }
   ],
   "source": [
    "a = [10,20,30,40]\n",
    "b = [80,90,70,80]\n",
    "a is b"
   ]
  },
  {
   "cell_type": "code",
   "execution_count": 24,
   "id": "fd2a26b7-f5ca-402d-9968-a199e8d87df0",
   "metadata": {},
   "outputs": [
    {
     "data": {
      "text/plain": [
       "True"
      ]
     },
     "execution_count": 24,
     "metadata": {},
     "output_type": "execute_result"
    }
   ],
   "source": [
    "a = [10,20,30,40]\n",
    "b = [80,90,70,80]\n",
    "a is not  b"
   ]
  },
  {
   "cell_type": "markdown",
   "id": "2413867c-87c3-49e6-a314-243ff846e5c9",
   "metadata": {},
   "source": [
    "### Membership Operators"
   ]
  },
  {
   "cell_type": "code",
   "execution_count": 26,
   "id": "82db5543-c3fb-463a-94ad-e4e3268ff733",
   "metadata": {},
   "outputs": [
    {
     "data": {
      "text/plain": [
       "True"
      ]
     },
     "execution_count": 26,
     "metadata": {},
     "output_type": "execute_result"
    }
   ],
   "source": [
    "a = [10,20,30,40]\n",
    "b = [80,90,70,80]\n",
    "80 in b\n"
   ]
  },
  {
   "cell_type": "code",
   "execution_count": 27,
   "id": "78988462-1bbd-4097-b6ed-87d86f8887f3",
   "metadata": {},
   "outputs": [
    {
     "data": {
      "text/plain": [
       "False"
      ]
     },
     "execution_count": 27,
     "metadata": {},
     "output_type": "execute_result"
    }
   ],
   "source": [
    "50 in a"
   ]
  },
  {
   "cell_type": "markdown",
   "id": "f7c7c1ef-b1b5-4ab2-a54a-18735d296167",
   "metadata": {},
   "source": [
    "### Bitwise Operators"
   ]
  },
  {
   "cell_type": "code",
   "execution_count": 28,
   "id": "c0a7df1a-811b-42a0-8729-a6e860078587",
   "metadata": {},
   "outputs": [
    {
     "data": {
      "text/plain": [
       "8"
      ]
     },
     "execution_count": 28,
     "metadata": {},
     "output_type": "execute_result"
    }
   ],
   "source": [
    "10 & 12"
   ]
  },
  {
   "cell_type": "code",
   "execution_count": 29,
   "id": "d40c0f61-9962-4a9a-b1f9-2bb2c5e8d35f",
   "metadata": {},
   "outputs": [
    {
     "data": {
      "text/plain": [
       "14"
      ]
     },
     "execution_count": 29,
     "metadata": {},
     "output_type": "execute_result"
    }
   ],
   "source": [
    "10 | 12"
   ]
  },
  {
   "cell_type": "code",
   "execution_count": 30,
   "id": "aa827de7-a6cb-45b5-a22a-c68e93b6d528",
   "metadata": {},
   "outputs": [
    {
     "data": {
      "text/plain": [
       "2"
      ]
     },
     "execution_count": 30,
     "metadata": {},
     "output_type": "execute_result"
    }
   ],
   "source": [
    "10 >> 2"
   ]
  },
  {
   "cell_type": "code",
   "execution_count": 31,
   "id": "6683d6f1-82d7-4705-8c15-3809f19655f7",
   "metadata": {},
   "outputs": [
    {
     "data": {
      "text/plain": [
       "40"
      ]
     },
     "execution_count": 31,
     "metadata": {},
     "output_type": "execute_result"
    }
   ],
   "source": [
    "10<<2"
   ]
  }
 ],
 "metadata": {
  "kernelspec": {
   "display_name": "Python 3 (ipykernel)",
   "language": "python",
   "name": "python3"
  },
  "language_info": {
   "codemirror_mode": {
    "name": "ipython",
    "version": 3
   },
   "file_extension": ".py",
   "mimetype": "text/x-python",
   "name": "python",
   "nbconvert_exporter": "python",
   "pygments_lexer": "ipython3",
   "version": "3.12.6"
  }
 },
 "nbformat": 4,
 "nbformat_minor": 5
}

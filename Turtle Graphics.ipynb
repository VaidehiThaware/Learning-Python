{
 "cells": [
  {
   "cell_type": "markdown",
   "id": "0381154d-a2e8-4048-93f2-2cb6be71e389",
   "metadata": {},
   "source": [
    "## Shape and Movement Control"
   ]
  },
  {
   "cell_type": "code",
   "execution_count": null,
   "id": "f8c8a038-07f2-4da1-b12c-1851ea028560",
   "metadata": {},
   "outputs": [],
   "source": [
    "from turtle import *\n",
    "forward(100)\n",
    "shape(\"circle\")\n",
    "forward(100)\n",
    "shape(\"turtle\")\n",
    "right(45)\n",
    "forward(100)"
   ]
  },
  {
   "cell_type": "markdown",
   "id": "b32b567b-312c-4ac4-a5a4-e1e07e0cf6ef",
   "metadata": {},
   "source": [
    "## Drawing a Square and Setting Turtle Shape "
   ]
  },
  {
   "cell_type": "code",
   "execution_count": null,
   "id": "bf601f50-2966-411b-a575-ba5473a5c9e2",
   "metadata": {},
   "outputs": [],
   "source": [
    "from turtle import *\n",
    "forward(100)\n",
    "right(90)\n",
    "forward(100)\n",
    "right(90)\n",
    "forward(100)\n",
    "right(90)\n",
    "forward(100)\n",
    "right(90)\n",
    "\n",
    "shape(\"turtle\")"
   ]
  },
  {
   "cell_type": "markdown",
   "id": "46085fd6-eaa4-4bb6-824a-7b00a16fc976",
   "metadata": {},
   "source": [
    "## Drawing a Polygon with Small Circles at Each Vertex"
   ]
  },
  {
   "cell_type": "code",
   "execution_count": 6,
   "id": "d7ad924b-de1f-4dee-b0a7-f9a36eca0cc5",
   "metadata": {},
   "outputs": [],
   "source": [
    "n = 7 \n",
    "for i in range(n):\n",
    "    right(360/n)\n",
    "    forward(50)\n",
    "    circle(2)"
   ]
  },
  {
   "cell_type": "markdown",
   "id": "3727e429-d642-4887-bdd9-d391c7537e05",
   "metadata": {},
   "source": [
    "## Drawing Nested Polygons with Rotational Symmetry"
   ]
  },
  {
   "cell_type": "code",
   "execution_count": 1,
   "id": "b31a3c5e-8339-4e1c-b6df-25538b776e58",
   "metadata": {},
   "outputs": [],
   "source": [
    "import turtle\n",
    "\n",
    "rot = 60\n",
    "n = 5\n",
    "t = turtle.Turtle()\n",
    "\n",
    "for d in range(rot):\n",
    "    t.right(360 / rot)\n",
    "    for i in range(n):\n",
    "        t.right(360 / n)\n",
    "        t.forward(50)\n",
    "\n",
    "turtle.done()\n"
   ]
  },
  {
   "cell_type": "markdown",
   "id": "dea9413c-0919-4976-9a5a-382e2e1e1e28",
   "metadata": {},
   "source": [
    "## Drawing Expanding Polygons with Rotational Symmetry"
   ]
  },
  {
   "cell_type": "code",
   "execution_count": 1,
   "id": "9008853e-a3f7-4664-ad97-3e43d2dab90d",
   "metadata": {},
   "outputs": [],
   "source": [
    "import turtle\n",
    "rot = 60\n",
    "n = 4\n",
    "l = 50\n",
    "t = turtle.Turtle()\n",
    "\n",
    "for d in range(rot):\n",
    "    t.right(360/rot)\n",
    "    l = l + 5\n",
    "    for i in range(n):\n",
    "        t.right(360/n)\n",
    "        t.forward(l)\n",
    "turtle.done()"
   ]
  },
  {
   "cell_type": "markdown",
   "id": "cfe639bb-3e44-4a40-b30d-d47f77f42b33",
   "metadata": {},
   "source": [
    "## Drawing the Sierpiński Triangle"
   ]
  },
  {
   "cell_type": "code",
   "execution_count": null,
   "id": "a40e85f2-e536-4389-9867-71d6690a3ff0",
   "metadata": {},
   "outputs": [],
   "source": [
    "import turtle\n",
    "import random\n",
    "\n",
    "t = turtle.Turtle()\n",
    "\n",
    "v = [(-300, -200), (0, -200), (300, 200)]\n",
    "for x, y in v:\n",
    "    t.penup()\n",
    "    t.goto(x, y)\n",
    "    t.dot(5)\n",
    "\n",
    "x, y = 0, 0\n",
    "for _ in range(10000):\n",
    "    vx, vy = random.choice(v)\n",
    "    x = (x + vx) / 2\n",
    "    y = (y + vy) / 2\n",
    "    t.penup()\n",
    "    t.goto(x, y)\n",
    "    t.dot(2)\n",
    "\n",
    "turtle.done()\n"
   ]
  },
  {
   "cell_type": "code",
   "execution_count": null,
   "id": "b7a369c0-6d58-436b-abee-ce75d5b33535",
   "metadata": {},
   "outputs": [],
   "source": []
  }
 ],
 "metadata": {
  "kernelspec": {
   "display_name": "Python 3 (ipykernel)",
   "language": "python",
   "name": "python3"
  },
  "language_info": {
   "codemirror_mode": {
    "name": "ipython",
    "version": 3
   },
   "file_extension": ".py",
   "mimetype": "text/x-python",
   "name": "python",
   "nbconvert_exporter": "python",
   "pygments_lexer": "ipython3",
   "version": "3.12.6"
  }
 },
 "nbformat": 4,
 "nbformat_minor": 5
}

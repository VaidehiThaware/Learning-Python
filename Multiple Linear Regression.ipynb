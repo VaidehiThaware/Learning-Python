{
 "cells": [
  {
   "cell_type": "code",
   "execution_count": 26,
   "id": "4096caec-a2d8-46fc-8928-52b50a94f438",
   "metadata": {},
   "outputs": [],
   "source": [
    "import pandas as pd\n",
    "import numpy as np\n",
    "import matplotlib.pyplot as plt"
   ]
  },
  {
   "cell_type": "code",
   "execution_count": 28,
   "id": "13ec18e8-d24e-4373-9c5c-903449dbef1e",
   "metadata": {},
   "outputs": [],
   "source": [
    "x1 = np.random.random(100)\n",
    "x2 = np.random.random(100)"
   ]
  },
  {
   "cell_type": "code",
   "execution_count": 30,
   "id": "a5393b94-efbd-4c3c-8cf3-0f30937509a2",
   "metadata": {},
   "outputs": [],
   "source": [
    "B0 = 3\n",
    "B1 = 1.2\n",
    "B2 = 2.1\n"
   ]
  },
  {
   "cell_type": "code",
   "execution_count": 76,
   "id": "2487607b-a916-413f-9465-8aeefcf82f86",
   "metadata": {},
   "outputs": [],
   "source": [
    "eta = 0.001"
   ]
  },
  {
   "cell_type": "code",
   "execution_count": 32,
   "id": "f154d3d3-cd86-433e-8326-3c58010bf571",
   "metadata": {},
   "outputs": [],
   "source": [
    "y = B0 + B1*x1 + B2*x2"
   ]
  },
  {
   "cell_type": "code",
   "execution_count": 34,
   "id": "42cb94fd-a78b-4b89-a4ee-0210137fc058",
   "metadata": {},
   "outputs": [
    {
     "name": "stdout",
     "output_type": "stream",
     "text": [
      "[5.2138817  4.95066155 5.01746513 3.5477277  4.51292737 5.82839375\n",
      " 4.44536698 5.77628855 5.90208154 5.28077807 4.9483974  5.21299877\n",
      " 5.34503545 3.69072717 3.91826252 4.5433509  5.08890748 4.47642704\n",
      " 5.08673962 4.37660868 4.46808263 5.00912328 3.62686139 5.35045932\n",
      " 4.91314502 4.22557645 6.08742859 4.84797736 5.29528401 3.50360616\n",
      " 5.33485023 4.71338288 6.26014493 4.46117181 4.29359333 5.53346529\n",
      " 4.59159175 3.37537591 5.48570845 3.48207082 4.65408771 5.13817073\n",
      " 4.66996004 4.20239114 5.08883032 3.67673373 5.26034892 3.83276522\n",
      " 4.73293525 3.32922588 5.31924338 5.27572546 4.4472505  3.5679059\n",
      " 3.84057874 5.77257622 5.49421398 4.8689279  5.74790384 4.40840408\n",
      " 4.31967449 3.57926657 4.64302167 4.50940803 3.85018777 4.74091657\n",
      " 4.92471433 3.70398826 4.48001106 3.52238552 4.19705851 4.22746274\n",
      " 4.75633845 4.23682129 4.79650665 3.8876845  4.8493599  4.96278442\n",
      " 5.96501108 4.89640913 4.1092439  4.10454874 4.54009954 4.76223476\n",
      " 3.41008245 5.81547367 4.49325076 4.44990896 5.92359343 4.37390131\n",
      " 6.07227579 3.83703415 4.98703474 3.7860741  4.61257634 4.75032258\n",
      " 4.84730198 4.20274629 4.9061796  4.04042243]\n"
     ]
    }
   ],
   "source": [
    "print(y)"
   ]
  },
  {
   "cell_type": "code",
   "execution_count": 36,
   "id": "fd2db98f-8405-4ec8-b159-ab150c1e7f99",
   "metadata": {},
   "outputs": [],
   "source": [
    "x0 = np.ones(100)"
   ]
  },
  {
   "cell_type": "code",
   "execution_count": 38,
   "id": "64a1ebdb-17c0-4b60-8b89-4098d2dc1e8f",
   "metadata": {},
   "outputs": [],
   "source": [
    "X = np.c_[x0,x1,x2]\n"
   ]
  },
  {
   "cell_type": "code",
   "execution_count": 40,
   "id": "eda996c1-1729-40b4-bef9-180a7e51e1f8",
   "metadata": {},
   "outputs": [],
   "source": [
    "B = np.linalg.inv(X.T.dot(X)).dot(X.T).dot(y)"
   ]
  },
  {
   "cell_type": "code",
   "execution_count": 42,
   "id": "22433ad9-b1b1-419d-8583-88cdef13075c",
   "metadata": {},
   "outputs": [
    {
     "name": "stdout",
     "output_type": "stream",
     "text": [
      "[3.  1.2 2.1]\n"
     ]
    }
   ],
   "source": [
    "print(B)"
   ]
  },
  {
   "cell_type": "code",
   "execution_count": 84,
   "id": "82549dc0-7c7c-40f4-8525-80df8a1ad786",
   "metadata": {},
   "outputs": [
    {
     "name": "stdout",
     "output_type": "stream",
     "text": [
      "[3.00021936 1.20055956 2.09908966]\n"
     ]
    }
   ],
   "source": [
    "B = np.random.random(3)\n",
    "for i in range(1000):\n",
    "   \n",
    "    yhat = X.dot(B)\n",
    "    D = y-yhat\n",
    "    Grad = X.T.dot(D)\n",
    "    B = B + eta*Grad\n",
    "print(B)    "
   ]
  },
  {
   "cell_type": "code",
   "execution_count": null,
   "id": "e1c0430b-8a26-4b6b-8ece-f2151e4bdfe8",
   "metadata": {},
   "outputs": [],
   "source": []
  }
 ],
 "metadata": {
  "kernelspec": {
   "display_name": "Python [conda env:base] *",
   "language": "python",
   "name": "conda-base-py"
  },
  "language_info": {
   "codemirror_mode": {
    "name": "ipython",
    "version": 3
   },
   "file_extension": ".py",
   "mimetype": "text/x-python",
   "name": "python",
   "nbconvert_exporter": "python",
   "pygments_lexer": "ipython3",
   "version": "3.12.7"
  }
 },
 "nbformat": 4,
 "nbformat_minor": 5
}

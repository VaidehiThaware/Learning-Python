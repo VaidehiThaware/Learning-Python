{
 "cells": [
  {
   "cell_type": "code",
   "execution_count": 1,
   "id": "746bedf9-8762-499f-9943-11242e73ec24",
   "metadata": {},
   "outputs": [
    {
     "name": "stdout",
     "output_type": "stream",
     "text": [
      "All points: [[7 4]\n",
      " [4 9]\n",
      " [7 5]\n",
      " [6 8]\n",
      " [0 0]]\n",
      "The closest point to [3 1] is [0 0] with a distance of 3.1622776601683795\n"
     ]
    }
   ],
   "source": [
    "import numpy as np\n",
    "\n",
    "all_points = np.random.randint(0, 10, (5, 2))\n",
    "p1 = np.random.randint(0, 10, 2)\n",
    "\n",
    "min_dist = 999999\n",
    "closest_point = None\n",
    "\n",
    "for point in all_points:\n",
    "    d = np.linalg.norm(p1 - point)\n",
    "    if d < min_dist:\n",
    "        min_dist = d\n",
    "        closest_point = point\n",
    "\n",
    "print(\"All points:\", all_points)\n",
    "print(\"The closest point to\", p1, \"is\", closest_point, \"with a distance of\", min_dist)\n"
   ]
  },
  {
   "cell_type": "code",
   "execution_count": null,
   "id": "f4fce45d-540a-4810-8dbb-266c3794ff23",
   "metadata": {},
   "outputs": [],
   "source": []
  }
 ],
 "metadata": {
  "kernelspec": {
   "display_name": "Python [conda env:base] *",
   "language": "python",
   "name": "conda-base-py"
  },
  "language_info": {
   "codemirror_mode": {
    "name": "ipython",
    "version": 3
   },
   "file_extension": ".py",
   "mimetype": "text/x-python",
   "name": "python",
   "nbconvert_exporter": "python",
   "pygments_lexer": "ipython3",
   "version": "3.12.7"
  }
 },
 "nbformat": 4,
 "nbformat_minor": 5
}

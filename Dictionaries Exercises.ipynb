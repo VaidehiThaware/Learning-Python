{
 "cells": [
  {
   "cell_type": "markdown",
   "id": "ada29084-e22b-4675-b37b-49cfe988098f",
   "metadata": {},
   "source": [
    "# Dictionaries"
   ]
  },
  {
   "cell_type": "markdown",
   "id": "20535457-fab7-47ab-a862-3012445f054c",
   "metadata": {},
   "source": [
    "#### 1.Create a dictionary (using comprehension) of numbers and some function of these numbers. For example, you could generate a random number to use as the key, and its sine (or exp, or …) as the value. A dict has unique keys, but not unique values. Ensure that your dict has a few replicated values (for example, sin (0) = sin(\\pi) = sin(2\\pi) = 0\n"
   ]
  },
  {
   "cell_type": "code",
   "execution_count": 11,
   "id": "aded1aa8-d719-421f-9b1e-de38fcf0cf1f",
   "metadata": {},
   "outputs": [
    {
     "name": "stdout",
     "output_type": "stream",
     "text": [
      "{3: 9, 4: 16, 9: 81, 8: 64, 10: 100}\n"
     ]
    }
   ],
   "source": [
    "dict1 = {}\n",
    "for i in range(10):\n",
    "    num = random.randint(1, 10)\n",
    "    dict1[num] = num * num\n",
    "\n",
    "print(dict1)\n",
    "\n"
   ]
  },
  {
   "cell_type": "code",
   "execution_count": 12,
   "id": "17f1de12-3484-4919-ba69-0befc92fbabf",
   "metadata": {},
   "outputs": [
    {
     "name": "stdout",
     "output_type": "stream",
     "text": [
      "{10: 25, 8: 4, 1: 64, 4: 100, 3: 81}\n"
     ]
    }
   ],
   "source": [
    "dict1 = {random.randint(1, 10): num * num for num in range(1, 11)}\n",
    "print(dict1)\n"
   ]
  },
  {
   "cell_type": "markdown",
   "id": "a3739832-f196-4167-a772-b46feb7647b2",
   "metadata": {},
   "source": [
    "#### 2.Write a function to do a reverse lookup on the above dictionary. Given a value, find the corresponding key. And find all the keys, not just the first one. What are the arguments to the function? What does the function return?\n"
   ]
  },
  {
   "cell_type": "code",
   "execution_count": 19,
   "id": "6cee7378-bb63-4bf9-aa33-1ff2e31b08f3",
   "metadata": {},
   "outputs": [
    {
     "name": "stdout",
     "output_type": "stream",
     "text": [
      "[2]\n",
      "[1.5, -1.5]\n"
     ]
    }
   ],
   "source": [
    "def reverselookup(d, v):\n",
    "    keys = []\n",
    "    for key, value in d.items():\n",
    "        if value == v:\n",
    "            keys.append(key)\n",
    "    return keys\n",
    "\n",
    "sqdict = {1.5: 2.25, -1.5: 2.25, 2: 4}\n",
    "\n",
    "print(reverselookup(sqdict, 4))     \n",
    "print(reverselookup(sqdict, 2.25))   \n"
   ]
  },
  {
   "cell_type": "markdown",
   "id": "d5d3f7f9-6199-424d-9873-d52ce925625c",
   "metadata": {},
   "source": [
    "#### 3.Create two dictionaries, where the values are numbers. You could use the approach in step 1 above, and use a different function for the values. Write a function to combine the two dictionaries: if the keys are unique, just copy the entry to the combined dict. If the key exists in both dicts, then add the corresponding values.\n"
   ]
  },
  {
   "cell_type": "code",
   "execution_count": 15,
   "id": "a805f8e7-beeb-4a83-b063-f2bd840c0d7b",
   "metadata": {},
   "outputs": [
    {
     "name": "stdout",
     "output_type": "stream",
     "text": [
      "{'a': 10, 'b': 25, 'c': 45, 'd': 25}\n"
     ]
    }
   ],
   "source": [
    "dict1 = {'a': 10, 'b': 20, 'c': 30}\n",
    "dict2 = {'b': 5, 'c': 15, 'd': 25}\n",
    "\n",
    "def combine_dicts(d1, d2):\n",
    "    combine = d1.copy()\n",
    "    for key, value in d2.items():\n",
    "        if key in combine:\n",
    "            combine[key] += value\n",
    "        else:\n",
    "            combine[key] = value\n",
    "    return combine\n",
    "\n",
    "result = combine_dicts(dict1, dict2)\n",
    "print(result)\n"
   ]
  },
  {
   "cell_type": "markdown",
   "id": "cb8d62b9-fca3-47c0-8d93-02f147039d2a",
   "metadata": {},
   "source": [
    "#### 4.Give a value, remove the corresponding key from your dictionary."
   ]
  },
  {
   "cell_type": "code",
   "execution_count": 16,
   "id": "0f48ae04-6756-415a-8558-24ef78a06130",
   "metadata": {},
   "outputs": [
    {
     "name": "stdout",
     "output_type": "stream",
     "text": [
      "{'a': 10, 'c': 30}\n"
     ]
    }
   ],
   "source": [
    "dict1 = {'a': 10, 'b': 20, 'c': 30}\n",
    "\n",
    "def removekey(d, value):\n",
    "    for key in list(d.keys()):\n",
    "        if d[key] == value:\n",
    "            del d[key]\n",
    "    return d\n",
    "\n",
    "result = removekey(dict1, 20)\n",
    "print(result)\n"
   ]
  },
  {
   "cell_type": "markdown",
   "id": "3ed20f81-68ab-4420-982d-195f758cd178",
   "metadata": {},
   "source": [
    "#### 5.Find the key with the maximum value."
   ]
  },
  {
   "cell_type": "code",
   "execution_count": 18,
   "id": "06dcb298-49f2-4774-99f6-e5389b364914",
   "metadata": {},
   "outputs": [
    {
     "name": "stdout",
     "output_type": "stream",
     "text": [
      "c\n"
     ]
    }
   ],
   "source": [
    "dict1 = {'a': 10, 'b': 20, 'c': 30}\n",
    "\n",
    "def maxkey(d):\n",
    "    return max(d, key=d.get)\n",
    "\n",
    "result = maxkey(dict1)\n",
    "print(result)\n"
   ]
  },
  {
   "cell_type": "markdown",
   "id": "01faf6b6-cad4-4cda-9c85-ecf507ccecb8",
   "metadata": {},
   "source": [
    "#### 6.Extend what we did in class, by combining with a previous assignment. Take a paragraph of text and write a word counter. Ignore punctuations and letter cases."
   ]
  },
  {
   "cell_type": "code",
   "execution_count": 1,
   "id": "602eab16-af69-4c9c-92c3-91fabc5340b6",
   "metadata": {},
   "outputs": [
    {
     "name": "stdout",
     "output_type": "stream",
     "text": [
      "{'how': 1, 'okay': 1, 'are': 2, 'hello': 2, 'you': 2}\n"
     ]
    }
   ],
   "source": [
    "def word_counter(text):\n",
    "    words = text.lower().replace('.', '').replace(',', '').replace('!', '').replace('?', '').split()\n",
    "    return {word: words.count(word) for word in set(words)}\n",
    "\n",
    "\n",
    "text = \"Hello, hello! How are you? Are you okay?\"\n",
    "print(word_counter(text))\n"
   ]
  },
  {
   "cell_type": "markdown",
   "id": "e6fe09c6-d0b4-4785-8cd0-264d3ce83a1e",
   "metadata": {},
   "source": [
    "#### 7.For a given paragraph of text, create a dictionary where the keys are the lengths of words and the values are their frequencies."
   ]
  },
  {
   "cell_type": "code",
   "execution_count": 2,
   "id": "1dc6dc25-98d6-479a-b784-b86fffab914f",
   "metadata": {},
   "outputs": [
    {
     "name": "stdout",
     "output_type": "stream",
     "text": [
      "{3: 5, 4: 1, 5: 2}\n"
     ]
    }
   ],
   "source": [
    "def word_length_frequency(text):\n",
    "    words = text.lower().replace('.', '').replace(',', '').replace('!', '').replace('?', '').split()\n",
    "    lengths = [len(word) for word in words]\n",
    "    return {length: lengths.count(length) for length in set(lengths)}\n",
    "\n",
    "\n",
    "text = \"Hello, hello! How are you? Are you okay?\"\n",
    "print(word_length_frequency(text))\n"
   ]
  },
  {
   "cell_type": "code",
   "execution_count": null,
   "id": "8430ee0f-5467-4ade-9c06-4998e6269baa",
   "metadata": {},
   "outputs": [],
   "source": []
  }
 ],
 "metadata": {
  "kernelspec": {
   "display_name": "Python 3 (ipykernel)",
   "language": "python",
   "name": "python3"
  },
  "language_info": {
   "codemirror_mode": {
    "name": "ipython",
    "version": 3
   },
   "file_extension": ".py",
   "mimetype": "text/x-python",
   "name": "python",
   "nbconvert_exporter": "python",
   "pygments_lexer": "ipython3",
   "version": "3.12.6"
  }
 },
 "nbformat": 4,
 "nbformat_minor": 5
}

{
 "cells": [
  {
   "cell_type": "markdown",
   "id": "8ddd0dee-24c8-44ee-b9d3-483acab004f5",
   "metadata": {},
   "source": [
    "# Strings "
   ]
  },
  {
   "cell_type": "markdown",
   "id": "fbb0dd66-6842-4af0-842a-dc68ad149ca8",
   "metadata": {},
   "source": [
    "- Count the number of uppercase and lowercase letters in a given string.\n",
    "- Print the results."
   ]
  },
  {
   "cell_type": "code",
   "execution_count": 13,
   "id": "287b9f9b-9287-4c76-b474-80dfa0ff6b46",
   "metadata": {},
   "outputs": [
    {
     "name": "stdout",
     "output_type": "stream",
     "text": [
      "Uppercase letters: 2 Lowercase letters: 8\n"
     ]
    }
   ],
   "source": [
    "# Define a string with both uppercase and lowercase characters.\n",
    "string = \"Hello World\"\n",
    "\n",
    "# Calculate the number of uppercase letters in the string.\n",
    "upper = sum(char.isupper() for char in string)\n",
    "\n",
    "# Calculate the number of lowercase letters in the string.\n",
    "lower = sum(char.islower() for char in string)\n",
    "\n",
    "# Print the count of uppercase and lowercase letters.\n",
    "print(\"Uppercase letters:\", upper, \"Lowercase letters:\", lower)\n",
    "\n"
   ]
  },
  {
   "cell_type": "markdown",
   "id": "5c211393-3d50-404c-b282-ab058c5b3145",
   "metadata": {},
   "source": [
    "- Count the number of words in a string.\n",
    "- Print the results."
   ]
  },
  {
   "cell_type": "code",
   "execution_count": 2,
   "id": "ef6d02e9-2b48-482b-85cb-acb1a1935987",
   "metadata": {},
   "outputs": [
    {
     "name": "stdout",
     "output_type": "stream",
     "text": [
      "Number of words: 2\n"
     ]
    }
   ],
   "source": [
    "# Define a string containing words separated by spaces.\n",
    "string = \"Hello World\"\n",
    "\n",
    "# Split the string into words and count the number of words using len().\n",
    "wordcount = len(string.split())\n",
    "\n",
    "# Print the count of words in the string.\n",
    "print(\"Number of words:\", wordcount)\n"
   ]
  },
  {
   "cell_type": "markdown",
   "id": "855fef79-8a3a-465a-aaf0-8ba56153f875",
   "metadata": {},
   "source": [
    "- Check if a given word is a palindrome.\n",
    "- If it is a palindrome print True if not print False.\n",
    "   "
   ]
  },
  {
   "cell_type": "code",
   "execution_count": 15,
   "id": "4eaecab1-51c7-432b-8feb-3c8ad2f09133",
   "metadata": {},
   "outputs": [
    {
     "name": "stdout",
     "output_type": "stream",
     "text": [
      "Is the word a palindrome? True\n"
     ]
    }
   ],
   "source": [
    "# Define a string that will be checked for being a palindrome.\n",
    "word = \"racecar\"\n",
    "\n",
    "# Reverse the string using slicing.\n",
    "palindrome = word[::-1]\n",
    "\n",
    "# Check if the original word is equal to the reversed word and print the result.\n",
    "print(\"Is the word a palindrome?\", word == palindrome)\n"
   ]
  },
  {
   "cell_type": "markdown",
   "id": "6ca66933-fdcb-41c3-a6cb-4f85b36655e1",
   "metadata": {},
   "source": [
    "- Check if a given string is a palindrome, ignoring spaces.\n",
    "- If it is a palindrome ignoring spaces then print True if not then print False."
   ]
  },
  {
   "cell_type": "code",
   "execution_count": 5,
   "id": "30c8f08f-a79e-4927-b755-5e7b87132bf0",
   "metadata": {},
   "outputs": [
    {
     "name": "stdout",
     "output_type": "stream",
     "text": [
      "Is the string a palindrome? True\n"
     ]
    }
   ],
   "source": [
    "# Define a string that will be checked for being a palindrome.\n",
    "string = \"race car\"\n",
    "\n",
    "# Remove spaces from the string and convert it to lowercase for a case-insensitive check.\n",
    "newstring = string.replace(\" \", \"\").lower()\n",
    "\n",
    "# Reverse the processed string using slicing.\n",
    "reversedstring = newstring[::-1]\n",
    "\n",
    "# Check if the processed string is equal to the reversed string and print the result.\n",
    "print(\"Is the string a palindrome?\", newstring == reversedstring)\n"
   ]
  },
  {
   "cell_type": "markdown",
   "id": "916441f3-46fc-4d3e-898d-8c01bd083a36",
   "metadata": {},
   "source": [
    "- The given word is \"Sarcasticizer\".\n",
    "-  Capitalise every 3rd letter in the above given string.\n",
    "-  Then print the results."
   ]
  },
  {
   "cell_type": "code",
   "execution_count": 16,
   "id": "a6e561b6-89da-4fa1-907d-f21c62d1ff46",
   "metadata": {},
   "outputs": [
    {
     "name": "stdout",
     "output_type": "stream",
     "text": [
      "saRcaStiCizEr\n"
     ]
    }
   ],
   "source": [
    "# Define the input string.\n",
    "string = \"sarcasticizer\"\n",
    "\n",
    "# Initialize an empty string to store the result.\n",
    "result = \"\"\n",
    "\n",
    "# Loop through each character in the string using its index.\n",
    "for i in range(len(string)):\n",
    "    # Check if the (index + 1) is divisible by 3 (every third character).\n",
    "    if (i + 1) % 3 == 0:\n",
    "        # Convert the character to uppercase and add it to the result.\n",
    "        result += string[i].upper()\n",
    "    else:\n",
    "        # Add the character as it is to the result.\n",
    "        result += string[i]\n",
    "\n",
    "# Print the final modified string.\n",
    "print(result)\n"
   ]
  },
  {
   "cell_type": "markdown",
   "id": "836bcc1e-d61c-4259-aa16-77d509c11cd2",
   "metadata": {},
   "source": [
    "- Reverse all the letters in the given string.\n",
    "- Then print the results."
   ]
  },
  {
   "cell_type": "code",
   "execution_count": 7,
   "id": "688cffe3-3c9a-40a9-8bb8-e5cb240bf5ee",
   "metadata": {},
   "outputs": [
    {
     "name": "stdout",
     "output_type": "stream",
     "text": [
      "dlroW olleH\n"
     ]
    }
   ],
   "source": [
    "# Define a string that will be reversed.\n",
    "string = \"Hello World\"\n",
    "\n",
    "# Reverse the string using slicing.\n",
    "reversedstring = string[::-1]\n",
    "\n",
    "# Print the reversed string.\n",
    "print(reversedstring)\n"
   ]
  },
  {
   "cell_type": "markdown",
   "id": "1c1d7e6e-7feb-4820-af76-f0150b25f7eb",
   "metadata": {},
   "source": [
    "- Reverse all the words in the given string.\n",
    "- Then print the results."
   ]
  },
  {
   "cell_type": "code",
   "execution_count": 9,
   "id": "9ee511f6-9abc-4356-a589-02990708f5cf",
   "metadata": {},
   "outputs": [
    {
     "name": "stdout",
     "output_type": "stream",
     "text": [
      "World Hello\n"
     ]
    }
   ],
   "source": [
    "# Define a string with multiple words.\n",
    "string = \"Hello World\"\n",
    "\n",
    "# Split the string into a list of words, reverse the order of the words, and join them back into a string.\n",
    "reversedwords = ' '.join(string.split()[::-1])\n",
    "\n",
    "# Print the string with the words in reversed order.\n",
    "print(reversedwords)\n"
   ]
  },
  {
   "cell_type": "markdown",
   "id": "f42c6634-29a1-4f7b-9bef-9d46cf05deac",
   "metadata": {},
   "source": [
    "- Reverse the letters of the words of the given string.\n",
    "- Then print the results."
   ]
  },
  {
   "cell_type": "code",
   "execution_count": 10,
   "id": "f4c83dfa-23fc-4252-bda7-20b18135538f",
   "metadata": {},
   "outputs": [
    {
     "name": "stdout",
     "output_type": "stream",
     "text": [
      "olleH dlroW\n"
     ]
    }
   ],
   "source": [
    "# Define a string with multiple words.\n",
    "string = \"Hello World\"\n",
    "\n",
    "# Reverse each word in the string and join them back into a string with spaces.\n",
    "reversedletters = ' '.join(word[::-1] for word in string.split())\n",
    "\n",
    "# Print the string with each word's letters reversed.\n",
    "print(reversedletters)\n"
   ]
  },
  {
   "cell_type": "markdown",
   "id": "1a9e86cb-a640-4c08-8f9d-b2b9a57c420c",
   "metadata": {},
   "source": [
    "- Count the number of vowels in the given string.\n",
    "- Then print the number of vowels in the string."
   ]
  },
  {
   "cell_type": "code",
   "execution_count": 11,
   "id": "02a388d5-d4c1-462e-90c0-fe6c578aa5f3",
   "metadata": {},
   "outputs": [
    {
     "name": "stdout",
     "output_type": "stream",
     "text": [
      "Number of vowels: 3\n"
     ]
    }
   ],
   "source": [
    "string = \"Hello World\"\n",
    "vowels = \"aeiouAEIOU\"\n",
    "count = 0\n",
    "\n",
    "# Check if the character is a vowel.\n",
    "for char in string:\n",
    "    if char in vowels:\n",
    "        # Increment the vowel counter.\n",
    "        count += 1\n",
    "\n",
    "# Print the total number of vowels.\n",
    "print(\"Number of vowels:\", count)\n"
   ]
  },
  {
   "cell_type": "markdown",
   "id": "25109f8c-0ac8-4bb4-bbe1-ee1e89cfd6f5",
   "metadata": {},
   "source": [
    "- For a given input text, find the average number of characters per word.\n",
    "- Then print the average number of characters per word."
   ]
  },
  {
   "cell_type": "code",
   "execution_count": 12,
   "id": "a658a14d-dcaf-4135-964e-8d45adeab8b7",
   "metadata": {},
   "outputs": [
    {
     "name": "stdout",
     "output_type": "stream",
     "text": [
      "Average number of characters per word: 6.333333333333333\n"
     ]
    }
   ],
   "source": [
    "text = \"Hello World, welcome to Python programming!\"\n",
    "\n",
    "# Split the text into individual words.\n",
    "words = text.split()\n",
    "\n",
    "# Calculate the average number of characters per word.\n",
    "averagecharacters = sum(len(word) for word in words) / len(words)\n",
    "\n",
    "# Print the average number of characters per word.\n",
    "print(\"Average number of characters per word:\", averagecharacters)\n"
   ]
  }
 ],
 "metadata": {
  "kernelspec": {
   "display_name": "Python 3 (ipykernel)",
   "language": "python",
   "name": "python3"
  },
  "language_info": {
   "codemirror_mode": {
    "name": "ipython",
    "version": 3
   },
   "file_extension": ".py",
   "mimetype": "text/x-python",
   "name": "python",
   "nbconvert_exporter": "python",
   "pygments_lexer": "ipython3",
   "version": "3.12.6"
  }
 },
 "nbformat": 4,
 "nbformat_minor": 5
}

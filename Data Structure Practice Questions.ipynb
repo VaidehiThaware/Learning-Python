{
 "cells": [
  {
   "cell_type": "markdown",
   "id": "f182e690-a8ff-4137-b19f-5099d6253599",
   "metadata": {},
   "source": [
    "# List"
   ]
  },
  {
   "cell_type": "markdown",
   "id": "b4b2447c-e4d2-4710-9753-e3cd8417c113",
   "metadata": {},
   "source": [
    "##### 1.Create a list of numbers from 1 to 10. Append the number 11 to the list, and then insert the word \"Python\" at the third position. Print the final list.\n",
    "##### 2.Remove the number 5 from a list [1, 2, 3, 4, 5, 6, 7] using the remove() method.\n",
    "##### 3.Create a list [10, 20, 30, 40]. Use the pop() method to remove the last item and print the updated list.\n",
    "##### 4.Extend a list [1, 2, 3] with the elements [4, 5, 6], and print the resulting list."
   ]
  },
  {
   "cell_type": "code",
   "execution_count": 5,
   "id": "f4ea6e2d-b97b-4680-b2bf-81e1077ad69e",
   "metadata": {},
   "outputs": [
    {
     "name": "stdout",
     "output_type": "stream",
     "text": [
      "[1, 2, 3, 'Python', 4, 5, 6, 7, 8, 9, 10, 11]\n"
     ]
    }
   ],
   "source": [
    "#Q1\n",
    "list1 = [1,2,3,4,5,6,7,8,9,10]\n",
    "list1.append(11)\n",
    "list1.insert(3,\"Python\")\n",
    "print(list1)"
   ]
  },
  {
   "cell_type": "code",
   "execution_count": 7,
   "id": "9b1a8511-f90a-4524-b3bc-eb964a46eab1",
   "metadata": {},
   "outputs": [
    {
     "name": "stdout",
     "output_type": "stream",
     "text": [
      "[1, 2, 3, 4, 6, 7]\n"
     ]
    }
   ],
   "source": [
    "#Q2\n",
    "list2 = [1,2,3,4,5,6,7]\n",
    "list2.remove(5)\n",
    "print(list2)"
   ]
  },
  {
   "cell_type": "code",
   "execution_count": 8,
   "id": "5909647f-2b9c-45f0-b51f-385d1d92d2a0",
   "metadata": {},
   "outputs": [
    {
     "name": "stdout",
     "output_type": "stream",
     "text": [
      "[10, 20, 30]\n"
     ]
    }
   ],
   "source": [
    "#Q3\n",
    "list3 = [10,20,30,40]\n",
    "list3.pop()\n",
    "print(list3)"
   ]
  },
  {
   "cell_type": "code",
   "execution_count": 9,
   "id": "602770dd-6d67-4174-9eca-5cceb8300daa",
   "metadata": {},
   "outputs": [
    {
     "name": "stdout",
     "output_type": "stream",
     "text": [
      "[1, 2, 3, 4, 5, 6]\n"
     ]
    }
   ],
   "source": [
    "#Q4\n",
    "list4 = [1,2,3]\n",
    "list4.extend([4,5,6])\n",
    "print(list4)"
   ]
  },
  {
   "cell_type": "markdown",
   "id": "6daf75ee-108c-43b0-97af-79dd71fb1356",
   "metadata": {},
   "source": [
    "# Dictionaries"
   ]
  },
  {
   "cell_type": "markdown",
   "id": "fbd414da-3664-4f1b-b168-4499ec73fa8d",
   "metadata": {},
   "source": [
    "##### 5.Create a dictionary with keys as numbers from 1 to 3 and values as their respective squares (e.g., {1: 1, 2: 4, 3: 9}).\n",
    "##### 6.Add a new key-value pair to a dictionary {\"name\": \"Alice\", \"age\": 25}. Add the pair \"city\": \"New York\".\n",
    "##### 7.Use the pop() method to remove the key \"age\" from the dictionary {\"name\": \"Alice\", \"age\": 25, \"city\": \"New York\"} and print the result."
   ]
  },
  {
   "cell_type": "code",
   "execution_count": 11,
   "id": "ba655277-442e-44a6-97ab-b9954d166900",
   "metadata": {},
   "outputs": [
    {
     "name": "stdout",
     "output_type": "stream",
     "text": [
      "{1: 1, 2: 4, 3: 9}\n"
     ]
    }
   ],
   "source": [
    "#Q5\n",
    "dic = {1:1,2:4,3:9}\n",
    "print(dic)"
   ]
  },
  {
   "cell_type": "code",
   "execution_count": 13,
   "id": "65799fa7-e1f0-46ae-90d1-d706680c4850",
   "metadata": {},
   "outputs": [
    {
     "name": "stdout",
     "output_type": "stream",
     "text": [
      "{'name': 'Alice', 'age': 25, 'city': 'New York'}\n"
     ]
    }
   ],
   "source": [
    "#Q6\n",
    "dic2 =  {\"name\": \"Alice\", \"age\": 25}\n",
    "dic2 [\"city\"] = \"New York\"\n",
    "print(dic2)"
   ]
  },
  {
   "cell_type": "code",
   "execution_count": 15,
   "id": "543deeff-1564-46d4-a4fb-2796ecc99a81",
   "metadata": {},
   "outputs": [
    {
     "name": "stdout",
     "output_type": "stream",
     "text": [
      "{'name': 'Alice', 'age': 25}\n"
     ]
    }
   ],
   "source": [
    "#Q7\n",
    "dic2.pop(\"city\")\n",
    "print(dic2)\n"
   ]
  },
  {
   "cell_type": "markdown",
   "id": "f35ecf65-2cf1-4a6e-9577-e0a28f2a79e1",
   "metadata": {},
   "source": [
    "# Tuples"
   ]
  },
  {
   "cell_type": "markdown",
   "id": "b93c2fda-a54b-4c12-b868-9139973d4284",
   "metadata": {},
   "source": [
    "##### 8.Create a tuple with the elements (5, 10, 15, 20). Use slicing to extract the first two elements.\n",
    "##### 9.Convert the tuple (1, 2, 3, 4, 5) into a list, modify it by adding the number 6, and then convert it back to a tuple.\n",
    "##### 10.Write a Python statement to find the length of the tuple (10, 20, 30, 40, 50)."
   ]
  },
  {
   "cell_type": "code",
   "execution_count": 19,
   "id": "909f3f9f-9831-4712-ad96-c4c671a12179",
   "metadata": {},
   "outputs": [
    {
     "name": "stdout",
     "output_type": "stream",
     "text": [
      "(5, 10)\n"
     ]
    }
   ],
   "source": [
    "#Q8\n",
    "tup = (5,10,15,20)\n",
    "sliced_tup = tup[0:2]\n",
    "print(sliced_tup)"
   ]
  },
  {
   "cell_type": "code",
   "execution_count": 21,
   "id": "d2727aa5-ae89-4e7e-86f9-dc54c4894da6",
   "metadata": {},
   "outputs": [
    {
     "name": "stdout",
     "output_type": "stream",
     "text": [
      "(1, 2, 3, 4, 5, 6)\n"
     ]
    }
   ],
   "source": [
    "#Q9\n",
    "tup = (1, 2, 3, 4, 5)\n",
    "tup_list = list(tup)\n",
    "tup_list.append(6)\n",
    "modified_tup = tuple(tup_list)\n",
    "print(modified_tup)\n"
   ]
  },
  {
   "cell_type": "code",
   "execution_count": 20,
   "id": "8ddd3bea-f3d8-44d3-a714-3a97881a4dbd",
   "metadata": {},
   "outputs": [
    {
     "name": "stdout",
     "output_type": "stream",
     "text": [
      "5\n"
     ]
    }
   ],
   "source": [
    "#Q10\n",
    "tup2 = (10,20,30,40,50)\n",
    "print(len(tup2))"
   ]
  },
  {
   "cell_type": "markdown",
   "id": "4466bd11-062e-45cc-823f-a4d9402b6e6d",
   "metadata": {},
   "source": [
    "# Sets"
   ]
  },
  {
   "cell_type": "markdown",
   "id": "8b26a448-1b91-423d-b0db-790d68da8e55",
   "metadata": {},
   "source": [
    "##### 11.Create a set from the list [1, 1, 2, 3, 4, 4, 5] and print the resulting set.\n",
    "##### 12.Add the number 100 to the set {10, 20, 30} and print the updated set.\n",
    "##### 13.Perform the union operation on two sets: {1, 2, 3} and {3, 4, 5}. Print the result.\n",
    "##### 14.Remove the number 7 from the set {5, 6, 7, 8, 9} using the discard() method.\n"
   ]
  },
  {
   "cell_type": "code",
   "execution_count": 3,
   "id": "3f46aa47-185c-4695-994d-5b0cd7eeb2bf",
   "metadata": {},
   "outputs": [
    {
     "name": "stdout",
     "output_type": "stream",
     "text": [
      "{1, 2, 3, 4, 5}\n"
     ]
    }
   ],
   "source": [
    "#Q11\n",
    "list1 = [1, 1, 2, 3, 4, 4, 5]\n",
    "set1 = set(list1)\n",
    "print(set1)\n"
   ]
  },
  {
   "cell_type": "code",
   "execution_count": 2,
   "id": "24d28841-415e-46d6-b886-452024ee3669",
   "metadata": {},
   "outputs": [
    {
     "name": "stdout",
     "output_type": "stream",
     "text": [
      "{100, 10, 20, 30}\n"
     ]
    }
   ],
   "source": [
    "#Q12\n",
    "set1 = {10, 20, 30}\n",
    "set1.add(100)\n",
    "print(set1)\n"
   ]
  },
  {
   "cell_type": "code",
   "execution_count": 4,
   "id": "0b5260f2-4a9f-4aad-be5f-72c1fd31a869",
   "metadata": {},
   "outputs": [
    {
     "name": "stdout",
     "output_type": "stream",
     "text": [
      "{1, 2, 3, 4, 5}\n"
     ]
    }
   ],
   "source": [
    "#Q13\n",
    "set1 = {1, 2, 3}\n",
    "set2 = {3, 4, 5}\n",
    "unionset = set1.union(set2)\n",
    "print(unionset)"
   ]
  },
  {
   "cell_type": "code",
   "execution_count": 5,
   "id": "3eddbb9c-e1c8-4035-9f4a-ff368cbc636c",
   "metadata": {},
   "outputs": [
    {
     "name": "stdout",
     "output_type": "stream",
     "text": [
      "{5, 6, 8, 9}\n"
     ]
    }
   ],
   "source": [
    "#Q14\n",
    "set1 = {5, 6, 7, 8, 9}\n",
    "set1.discard(7)\n",
    "print(set1)\n"
   ]
  },
  {
   "cell_type": "code",
   "execution_count": null,
   "id": "3f42d023-9cd9-4d32-8b51-7097e9dca6c2",
   "metadata": {},
   "outputs": [],
   "source": []
  }
 ],
 "metadata": {
  "kernelspec": {
   "display_name": "Python 3 (ipykernel)",
   "language": "python",
   "name": "python3"
  },
  "language_info": {
   "codemirror_mode": {
    "name": "ipython",
    "version": 3
   },
   "file_extension": ".py",
   "mimetype": "text/x-python",
   "name": "python",
   "nbconvert_exporter": "python",
   "pygments_lexer": "ipython3",
   "version": "3.12.6"
  }
 },
 "nbformat": 4,
 "nbformat_minor": 5
}
